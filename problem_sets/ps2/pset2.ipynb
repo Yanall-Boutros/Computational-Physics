{
 "cells": [
  {
   "cell_type": "markdown",
   "metadata": {},
   "source": [
    "# Problem Set 2\n",
    "### Due by 5PM Thursday 18 April, submitted online via Canvas.\n",
    "\n",
    "## Instructions (please read everything carefully)\n",
    "\n",
    "* The questions are given in the cells, below. Your answers should be in this same notebook, beneath each question (insert as many cells as you need), with\n",
    "  - text in markdown cells. Equations should be in $\\LaTeX$\n",
    "  - fully functional code, with comments so we can understand what you are doing. If you based any part of your code on someone else's initial implementation, cite appropriately.\n",
    "  - outputs, in presentable format.\n",
    "    - Plots should have clear titles, axis labels, and legends if needed.\n",
    "    - Numerical answers should have a sensible number of digits with surrounding text that identifies what is being printed.\n",
    "\n",
    "* Submit your notebook to Canvas for the specific assignment prior to the deadline. Please use a file name that includes your name and the problem set number, *e.g.*, pset2-Ritz.ipynb.\n",
    "\n",
    "* Solutions will be posted soon after the deadline, and your work will be graded within one week (usually sooner).\n",
    "\n",
    "* Problems are typically posted one week in advance. You are encouraged to work together on problems, but the actual code and the full notebook must be your own work.\n",
    "\n",
    "* The time it takes to write code is often unpredictable, particularly at the beginning of the quarter. Start early.\n",
    "\n",
    "* If anything is unclear, please ask! The Discussion Forum on Canvas is a convenient method that gives everyone the benefit of your question and the answer(s). Your TA, Ben Lehmann, also provides numerous help sessions throughout the week.\n",
    "\n"
   ]
  },
  {
   "cell_type": "code",
   "execution_count": 1,
   "metadata": {},
   "outputs": [
    {
     "name": "stdout",
     "output_type": "stream",
     "text": [
      "3.5.6 |Anaconda custom (64-bit)| (default, Aug 26 2018, 16:30:03) \n",
      "[GCC 4.2.1 Compatible Clang 4.0.1 (tags/RELEASE_401/final)]\n"
     ]
    }
   ],
   "source": [
    "# these were discussed in lecture\n",
    "import numpy as np\n",
    "import matplotlib.pyplot as plt\n",
    "%matplotlib inline\n",
    "import sys\n",
    "print(sys.version)"
   ]
  },
  {
   "cell_type": "markdown",
   "metadata": {},
   "source": [
    "## Problem 1\n",
    "(a) Write your own `rk2` ODE solver. Make it general: have it call a function f(t,y) that you want to integrate (recall, we defined $f(t,y)=\\frac{dy}{dt}$), and make the total time and step size easily configurable. \n",
    "\n",
    "Try it out first by integrating $$f(t)=\\sin(\\omega t)$$ starting at $t=0$ and $y=0$, and let it run for at least 20 periods. Then, use a canned solver like odeint in Scipy. Plot the two results as a function of time, along with the exact analytic result (you can use the numpy trig function). How do these all compare? Explain why the plot looks the way it does -- specifically the maximum and minimum values of the function.\n"
   ]
  },
  {
   "cell_type": "code",
   "execution_count": 2,
   "metadata": {},
   "outputs": [],
   "source": [
    "# your code here\n"
   ]
  },
  {
   "cell_type": "markdown",
   "metadata": {},
   "source": [
    "(b) Next, try out your solver with the function $$f(t,y)=1 + y^2+t^3$$ with start values of $(t0,y0)=(1.,-4.)$ and let it run to $t=2.0$ (*i.e.,* 1 second). Pick a reasonable number of steps, such as 100. Plot $y$ as a function of time  and compare with the result from the canned odeint solver. "
   ]
  },
  {
   "cell_type": "code",
   "execution_count": 3,
   "metadata": {},
   "outputs": [],
   "source": [
    "# your code here\n"
   ]
  },
  {
   "cell_type": "markdown",
   "metadata": {},
   "source": [
    "----------------------\n",
    "## Problem 2\n",
    "Use a solver, such as Scipy odeint, to explore the Van der Pol equation in phase space (see Lectures1.ipynb and links therein). Pick at least one large and one small value of $\\xi$, and try starting positions inside and outside the limit cycle. Find a reasonable range of total time to show the limit cycles clearly."
   ]
  },
  {
   "cell_type": "code",
   "execution_count": 4,
   "metadata": {},
   "outputs": [],
   "source": [
    "# your code here\n"
   ]
  },
  {
   "cell_type": "markdown",
   "metadata": {},
   "source": [
    "-------------\n",
    "## Problem 3\n",
    "Following a suggested problem in Chapter 8.8 your textbook, we now look at oscillations in potentials of the form $V(x) = \\frac{1}{p} kx^p$.\n",
    "\n",
    "a) See equation (8.7), and use the odeint solver to plot the oscillations $x(t)$ of systems with $p = 2,4,8$, in all cases setting $F_\\text{ext}=0$ (for now). Also plot $V(x)$ for each $p$ along with $x(t)$. Check that energy is conserved during the oscillations.\n",
    "\n"
   ]
  },
  {
   "cell_type": "code",
   "execution_count": 5,
   "metadata": {},
   "outputs": [],
   "source": [
    "# your code here"
   ]
  },
  {
   "cell_type": "markdown",
   "metadata": {},
   "source": [
    "b) Figure out how to assess the period of oscillations (note, the book has some advice about checking at least three full cycles to estimate the period, because the motion may be asymmetric). Plot the period of oscillations as a function of initial amplitude for $p=2,4,8$. How does this differ from the simple harmonic oscillator?\n"
   ]
  },
  {
   "cell_type": "code",
   "execution_count": 6,
   "metadata": {},
   "outputs": [],
   "source": [
    "# your code here"
   ]
  },
  {
   "cell_type": "markdown",
   "metadata": {},
   "source": [
    "c) Now, following section 8.10 of your book, add the external driving force $F_\\text{ext}$ to the harmonic oscillator system with $p=2$. $$F_\\text{ext}(t) = F_0 \\sin(\\omega t)$$\n",
    "\n",
    "First, plot the oscillation of this system for a very large $F_0$ value. \n",
    "\n",
    "Then, reduce $F_0$ until it is approximately equal to the system restoring force $F_k(x) = -dV(x)/dx$, and verify that you see a beat frequency of $(\\omega - \\omega_0)/2\\pi$, where $\\omega_0$ is the natural frequency of the system.\n",
    "\n",
    "Next, plot the maximum amplitude as a function of the driving frequency $\\omega$ by scanning the interval $\\omega_0/10 \\leq \\omega \\leq 10\\omega_0$.  What features do you observe?\n",
    "\n",
    "Finally, repeat the previous scan over $\\omega$ with a new, non-linear system having $p=4$.  (You may have to retune $F_0$.)  How does the response of this system differ from the linear system having $p=2$?\n"
   ]
  },
  {
   "cell_type": "code",
   "execution_count": 7,
   "metadata": {},
   "outputs": [],
   "source": [
    "# your code here"
   ]
  },
  {
   "cell_type": "markdown",
   "metadata": {},
   "source": [
    "-------------------\n",
    "## Problem 4\n",
    "Look again at what we did in class for the simple pendulum with a periodic driving force and damping. You may use that code, or write your own if you prefer, to explore.\n",
    "\n",
    "a) With zero driving force and zero or small damping, start the system at $\\theta=0$ and gradually increase the initial value of $\\dot{\\theta}$. Can you produce \"over-the-top\" motions?"
   ]
  },
  {
   "cell_type": "code",
   "execution_count": 8,
   "metadata": {},
   "outputs": [],
   "source": [
    "# your code here"
   ]
  },
  {
   "cell_type": "markdown",
   "metadata": {},
   "source": [
    "b) Now make plots in phase space: make your own version of the plot in your textbook shown in figure 15.4 (p368) using your pendulum code and adjusting the parameters in whatever way you think is the clearest. Describe each of the main features. Explore what happens with the damping the driving forces at various strenghts. "
   ]
  },
  {
   "cell_type": "code",
   "execution_count": 9,
   "metadata": {},
   "outputs": [],
   "source": [
    "# your code here"
   ]
  },
  {
   "cell_type": "markdown",
   "metadata": {},
   "source": [
    "c) Read section 15.2.1 and try to find at least one of the types of complex behaviors described there in your oscillator. If you need a start, you might find section 15.2.2 helpful. Show and explain your results. (Some of you might want to pursue this topic further in your project.)"
   ]
  },
  {
   "cell_type": "code",
   "execution_count": 10,
   "metadata": {},
   "outputs": [],
   "source": [
    "# your code here"
   ]
  },
  {
   "cell_type": "markdown",
   "metadata": {},
   "source": []
  },
  {
   "cell_type": "code",
   "execution_count": null,
   "metadata": {},
   "outputs": [],
   "source": []
  },
  {
   "cell_type": "code",
   "execution_count": null,
   "metadata": {},
   "outputs": [],
   "source": []
  },
  {
   "cell_type": "code",
   "execution_count": null,
   "metadata": {},
   "outputs": [],
   "source": []
  }
 ],
 "metadata": {
  "kernelspec": {
   "display_name": "Python 3",
   "language": "python",
   "name": "python3"
  },
  "language_info": {
   "codemirror_mode": {
    "name": "ipython",
    "version": 3
   },
   "file_extension": ".py",
   "mimetype": "text/x-python",
   "name": "python",
   "nbconvert_exporter": "python",
   "pygments_lexer": "ipython3",
   "version": "3.6.7"
  }
 },
 "nbformat": 4,
 "nbformat_minor": 2
}
