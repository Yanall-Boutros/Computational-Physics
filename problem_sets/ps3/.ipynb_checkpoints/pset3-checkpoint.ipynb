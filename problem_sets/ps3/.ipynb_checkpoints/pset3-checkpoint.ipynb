{
 "cells": [
  {
   "cell_type": "markdown",
   "metadata": {},
   "source": [
    "# Problem Set 3\n",
    "### Due by 5PM Thursday 25 April, submitted online via Canvas.\n",
    "\n",
    "## Instructions (please read everything carefully)\n",
    "\n",
    "* The questions are given in the cells, below. Your answers should be in this same notebook, beneath each question (insert as many cells as you need), with\n",
    "  - text in markdown cells. Equations should be in $\\LaTeX$\n",
    "  - fully functional code, with comments so we can understand what you are doing. If you based any part of your code on someone else's initial implementation, cite appropriately.\n",
    "  - outputs, in presentable format.\n",
    "    - Plots should have clear titles, axis labels, and legends if needed.\n",
    "    - Numerical answers should have a sensible number of digits with surrounding text that identifies what is being printed.\n",
    "\n",
    "* Submit your notebook to Canvas for the specific assignment prior to the deadline. Please use a file name that includes your name and the problem set number, *e.g.*, pset2-Ritz.ipynb.\n",
    "\n",
    "* Solutions will be posted soon after the deadline, and your work will be graded within one week (usually sooner).\n",
    "\n",
    "* Problems are typically posted one week in advance. You are encouraged to work together on problems, but the actual code and the full notebook must be your own work.\n",
    "\n",
    "* The time it takes to write code is often unpredictable, particularly at the beginning of the quarter. Start early.\n",
    "\n",
    "* If anything is unclear, please ask! The Discussion Forum on Canvas is a convenient method that gives everyone the benefit of your question and the answer(s). Your TA, Ben Lehmann, also provides numerous help sessions throughout the week.\n",
    "\n"
   ]
  },
  {
   "cell_type": "code",
   "execution_count": null,
   "metadata": {},
   "outputs": [],
   "source": [
    "# these were discussed in lecture\n",
    "import numpy as np\n",
    "import matplotlib.pyplot as plt\n",
    "%matplotlib inline\n",
    "import sys\n",
    "print(sys.version)"
   ]
  },
  {
   "cell_type": "markdown",
   "metadata": {},
   "source": [
    "## Problem 1\n",
    "\n",
    "Read about the famous [Lorenz attractor](https://en.wikipedia.org/wiki/Lorenz_system). You will be interested to see that the Python code on that page is very similar to what we have already been doing, especially in its use of odeint.\n",
    "\n",
    "Feel free to grab that code (appropriately referenced) and use the parameters there (and in problem 15.7 of your textbook -- they're the same!) as your starting point. I recommend you also temporarily put the back end of matplot into notebook mode, *i.e.*, `%matplotlib notebook`, so you can rotate the 3D plot. Don't forget to put it back to `inline` when you are done.\n",
    "\n",
    "First, modify the code so that the last point in the trajectory is highlighted with a marker. For example, you could add a line such as\n",
    "\n",
    "`ax.scatter(states[-1,0], states[-1,1], states[-1,2], c='r', marker='o', )`\n",
    "\n",
    "just before the plt.show(), and I also recommend you examine that point with a print statement, such as\n",
    "\n",
    "`print(states[-1,:])`\n",
    "\n",
    "Now, change the starting point (the state0 parameters) *just slightly*. For example, see what happens when one of the coordinates is 1.00000000000001 instead of 1.0. At first glance, it might seem you get pretty much the same trajectory, but look where the system winds up at the end! \n",
    "\n",
    "Keep exploring: for a sizable number of *slightly* different starting points, devise a way (or ways) to plot just the final position as a function of starting position. You'd think that tiny changes in starting point would result in tiny changes in phase space trajectory, and therefore where the system ends up. It is important to remember that the system is deterministic: a precise starting position gives a precise prediction where the system will go; however, approximate knowledge makes it fundamentally impossible to predict where the system will be after a while. This is sometimes called deterministic chaos."
   ]
  },
  {
   "cell_type": "code",
   "execution_count": null,
   "metadata": {},
   "outputs": [],
   "source": [
    "# your code and results here\n"
   ]
  },
  {
   "cell_type": "markdown",
   "metadata": {},
   "source": []
  },
  {
   "cell_type": "markdown",
   "metadata": {},
   "source": [
    "----------------------\n",
    "## Problem 2\n",
    "There's a fairly good image of diffraction of visible light at a straight edge (such as the edge of a razor blade) [here](https://dlmf.nist.gov/7.SB1). The intensity of light varies with perpendicular distance from the edge.\n",
    "The intensity is given by\n",
    "$$\n",
    "I = \\frac{I_0}{2} \\left\\{ [C(v) + 0.5]^2 + [S(v)+0.5]^2 \\right\\},\n",
    "$$\n",
    "where $I_0$ is the intensity of the incident light, $v$ is proportional to the distance from the edge, and $C(v)$ and $S(v)$ are the Fresnel integrals\n",
    "$$\n",
    "C(v) = \\int_0^v \\cos(\\pi w^2/2) dw\n",
    "$$\n",
    "\n",
    "and \n",
    "\n",
    "$$\n",
    "S(v) = \\int_0^v \\sin(\\pi w^2/2) dw.\n",
    "$$\n",
    "Write a trapezoid rule integrator to evaluate $I/I_0$ as a function of $v$ (to at least $v=8$) and plot the results. Notice that $v$ is the limit of the integration, so you'll need to do the integrations for each value of $v$ in your plot (in other words, write a loop over the values of $v$, and do the integrals numerically for each $v$)."
   ]
  },
  {
   "cell_type": "code",
   "execution_count": null,
   "metadata": {},
   "outputs": [],
   "source": [
    "# your code here\n",
    "\n"
   ]
  },
  {
   "cell_type": "markdown",
   "metadata": {},
   "source": [
    "-------------\n",
    "## Problem 3\n",
    "Imagine you set up an experiment in which an electron and a positron collide with center-of-mass energy, $E$, to enable the production of a new, massive particle: $e^+e^- \\rightarrow X$. You'd think that, to conserve energy and momentum, the reaction would only happen when $E=M$ (we are working in \"natural\" units that set $c=\\hbar=1$.), where $M$ is the rest mass of the $X$ particle. This is called a resonance. However, as you know from the uncertainty principle, a state with a short lifetime has an intrinsic uncertainty in its energy, and therefore its rest mass. The width of the distribution is inversely proportional to the lifetime. If $X$ has a short lifetime, there is a range of energies for which the reaction can occur, hence the resonance has a width.\n",
    "\n",
    "The relativistic Breit-Wigner function describes this resonance, given the width $\\Gamma$ (set by the lifetime of the $X$ particle, which has mass $M$):\n",
    "\n",
    "$$\n",
    "f(E) = \\frac{k}{(E^2 - M^2)^2 + M^2 \\Gamma^2},\n",
    "$$\n",
    "where the scaling factor $k$ is \n",
    "$$k = \\frac{2\\sqrt{2} M \\Gamma \\gamma}{\\pi \\sqrt{M^2 + \\gamma}},$$\n",
    "and $\\gamma = \\sqrt{M^2 (M^2 + \\Gamma^2)}$. \n",
    "\n",
    "\n",
    " a) Plot the Breit-Wigner distribution for a hypothetical X particle having $M=90\\,\\text{GeV}$ and $\\Gamma = 10\\,\\text{GeV}$, over the range of E from 0 to 180 GeV.\n",
    "\t\n",
    " b) Suppose that in an experiment we select only those particles produced within $\\pm 3 \\Gamma$ of the B-W peak. What fraction of the particles will we keep? Use Simpson's rule to integrate the Breit-Wigner distribution and find out the answer.\n",
    " \n",
    "Note that the $Z$ boson has $M=91.2\\,\\text{GeV}$ and $\\Gamma=2.5\\,\\text{GeV}$, so this is a reasonably realistic particle physics example.\n",
    "\n"
   ]
  },
  {
   "cell_type": "code",
   "execution_count": null,
   "metadata": {},
   "outputs": [],
   "source": [
    "# your code here to plot the function (a)"
   ]
  },
  {
   "cell_type": "code",
   "execution_count": null,
   "metadata": {},
   "outputs": [],
   "source": [
    "# your code here to do the integration and display the results (b)"
   ]
  },
  {
   "cell_type": "markdown",
   "metadata": {},
   "source": [
    "-------------------\n",
    "## Problem 4\n",
    "\n",
    "a) Starting with a uniform random number generator, such as numpy's random.random() or random.rand(), use the inversion method to generate a large set ($N=10^6$ or more) of random numbers distributed as a triangle:\n",
    "\n",
    "$$w(x)=Ax$$\n",
    "\n",
    "for $x$ between 0 and 10. Be sure to get the normalization, $A$, right, and show a histogram of your random number distribution. (Bonus: *in addition*  you can also try the Von Neumann rejection method, though it's less efficient.)"
   ]
  },
  {
   "cell_type": "code",
   "execution_count": null,
   "metadata": {},
   "outputs": [],
   "source": [
    "# your code here\n"
   ]
  },
  {
   "cell_type": "markdown",
   "metadata": {},
   "source": [
    "b) Now draw 4 of the numbers from your triangle distribution and add the four numbers together. Do this for the whole sample, and histogram the results. Describe your result: the mean, the rms, and the qualitative shape of the distribution. Relate each of these to the triangle distribution from which the numbers were drawn, and explain the resulting shape of the distribution of the summed numbers."
   ]
  },
  {
   "cell_type": "code",
   "execution_count": null,
   "metadata": {},
   "outputs": [],
   "source": [
    "# your code here\n"
   ]
  },
  {
   "cell_type": "markdown",
   "metadata": {},
   "source": [
    "Your description, observations, and conclusions here."
   ]
  },
  {
   "cell_type": "code",
   "execution_count": null,
   "metadata": {},
   "outputs": [],
   "source": []
  }
 ],
 "metadata": {
  "kernelspec": {
   "display_name": "Python 3",
   "language": "python",
   "name": "python3"
  },
  "language_info": {
   "codemirror_mode": {
    "name": "ipython",
    "version": 3
   },
   "file_extension": ".py",
   "mimetype": "text/x-python",
   "name": "python",
   "nbconvert_exporter": "python",
   "pygments_lexer": "ipython3",
   "version": "3.6.7"
  }
 },
 "nbformat": 4,
 "nbformat_minor": 2
}
