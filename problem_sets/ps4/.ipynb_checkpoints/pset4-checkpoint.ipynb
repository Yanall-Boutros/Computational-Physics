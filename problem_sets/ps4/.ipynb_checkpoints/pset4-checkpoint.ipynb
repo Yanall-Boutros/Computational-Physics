{
 "cells": [
  {
   "cell_type": "markdown",
   "metadata": {},
   "source": [
    "# Problem Set 4\n",
    "### Due by 5PM Thursday 2 May, submitted online via Canvas.\n",
    "\n",
    "## Instructions (please read everything carefully)\n",
    "\n",
    "* The questions are given in the cells, below. Your answers should be in this same notebook, beneath each question (insert as many cells as you need), with\n",
    "  - text in markdown cells. Equations should be in $\\LaTeX$\n",
    "  - fully functional code, with comments so we can understand what you are doing. If you based any part of your code on someone else's initial implementation, cite appropriately.\n",
    "  - outputs, in presentable format.\n",
    "    - Plots should have clear titles, axis labels, and legends if needed.\n",
    "    - Numerical answers should have a sensible number of digits with surrounding text that identifies what is being printed.\n",
    "\n",
    "* Submit your notebook to Canvas for the specific assignment prior to the deadline. Please use a file name that includes your name and the problem set number, *e.g.*, pset2-Ritz.ipynb.\n",
    "\n",
    "* Solutions will be posted soon after the deadline, and your work will be graded within one week (usually sooner).\n",
    "\n",
    "* Problems are typically posted one week in advance. You are encouraged to work together on problems, but the actual code and the full notebook must be your own work.\n",
    "\n",
    "* The time it takes to write code is often unpredictable, particularly at the beginning of the quarter. Start early.\n",
    "\n",
    "* If anything is unclear, please ask! The Discussion Forum on Canvas is a convenient method that gives everyone the benefit of your question and the answer(s). Your TA, Ben Lehmann, also provides numerous help sessions throughout the week.\n",
    "\n",
    "We'll discuss these problems in class on Friday 26 April.\n",
    "\n",
    "\n"
   ]
  },
  {
   "cell_type": "code",
   "execution_count": 1,
   "metadata": {},
   "outputs": [
    {
     "name": "stdout",
     "output_type": "stream",
     "text": [
      "3.5.6 |Anaconda custom (64-bit)| (default, Aug 26 2018, 16:30:03) \n",
      "[GCC 4.2.1 Compatible Clang 4.0.1 (tags/RELEASE_401/final)]\n"
     ]
    }
   ],
   "source": [
    "# these were discussed in lecture\n",
    "import numpy as np\n",
    "import matplotlib.pyplot as plt\n",
    "%matplotlib inline\n",
    "import sys\n",
    "print(sys.version)"
   ]
  },
  {
   "cell_type": "markdown",
   "metadata": {},
   "source": [
    "## Problem 1\n",
    "\n",
    "**Multi-dimension MC integration.**\n",
    "We discussed at length 1-dimensional MC integration, and we surmised that MC techniques become important for multi-dimensional integrals. Let's see that now by doing the problem in section 5.17 of your textbook. We want to evaluate the ten-dimensional integral\n",
    "\n",
    "$$I=\\int_0^1 dx_1\\int_0^1 dx_2...\\int_0^1 dx_{10} (x_1+x_2+....+x_{10})^2$$\n",
    "\n",
    "and we will compare the result with the analytic result $155/6$ and with a trapezoid rule integration, in the following problem. \n",
    "\n",
    "-------------\n",
    "First, a quick digression: this seems a good opportunity to introduce a new friend, Sympy.\n"
   ]
  },
  {
   "cell_type": "code",
   "execution_count": 2,
   "metadata": {},
   "outputs": [
    {
     "data": {
      "image/png": "[encoded data removed]",
      "text/latex": [
       "$$\\frac{x_{1} x_{10}^{3} x_{2} x_{3} x_{4} x_{5} x_{6} x_{7} x_{8} x_{9}}{3} + x_{10}^{2} \\left(\\frac{x_{1}^{2} x_{2} x_{3} x_{4} x_{5} x_{6} x_{7} x_{8} x_{9}}{2} + \\frac{x_{1} x_{2}^{2} x_{3} x_{4} x_{5} x_{6} x_{7} x_{8} x_{9}}{2} + \\frac{x_{1} x_{2} x_{3}^{2} x_{4} x_{5} x_{6} x_{7} x_{8} x_{9}}{2} + \\frac{x_{1} x_{2} x_{3} x_{4}^{2} x_{5} x_{6} x_{7} x_{8} x_{9}}{2} + \\frac{x_{1} x_{2} x_{3} x_{4} x_{5}^{2} x_{6} x_{7} x_{8} x_{9}}{2} + \\frac{x_{1} x_{2} x_{3} x_{4} x_{5} x_{6}^{2} x_{7} x_{8} x_{9}}{2} + \\frac{x_{1} x_{2} x_{3} x_{4} x_{5} x_{6} x_{7}^{2} x_{8} x_{9}}{2} + \\frac{x_{1} x_{2} x_{3} x_{4} x_{5} x_{6} x_{7} x_{8}^{2} x_{9}}{2} + \\frac{x_{1} x_{2} x_{3} x_{4} x_{5} x_{6} x_{7} x_{8} x_{9}^{2}}{2}\\right) + x_{10} \\left(\\frac{x_{1}^{3} x_{2} x_{3} x_{4} x_{5} x_{6} x_{7} x_{8} x_{9}}{3} + \\frac{x_{1}^{2} x_{2}^{2} x_{3} x_{4} x_{5} x_{6} x_{7} x_{8} x_{9}}{2} + \\frac{x_{1}^{2} x_{2} x_{3}^{2} x_{4} x_{5} x_{6} x_{7} x_{8} x_{9}}{2} + \\frac{x_{1}^{2} x_{2} x_{3} x_{4}^{2} x_{5} x_{6} x_{7} x_{8} x_{9}}{2} + \\frac{x_{1}^{2} x_{2} x_{3} x_{4} x_{5}^{2} x_{6} x_{7} x_{8} x_{9}}{2} + \\frac{x_{1}^{2} x_{2} x_{3} x_{4} x_{5} x_{6}^{2} x_{7} x_{8} x_{9}}{2} + \\frac{x_{1}^{2} x_{2} x_{3} x_{4} x_{5} x_{6} x_{7}^{2} x_{8} x_{9}}{2} + \\frac{x_{1}^{2} x_{2} x_{3} x_{4} x_{5} x_{6} x_{7} x_{8}^{2} x_{9}}{2} + \\frac{x_{1}^{2} x_{2} x_{3} x_{4} x_{5} x_{6} x_{7} x_{8} x_{9}^{2}}{2} + \\frac{x_{1} x_{2}^{3} x_{3} x_{4} x_{5} x_{6} x_{7} x_{8} x_{9}}{3} + \\frac{x_{1} x_{2}^{2} x_{3}^{2} x_{4} x_{5} x_{6} x_{7} x_{8} x_{9}}{2} + \\frac{x_{1} x_{2}^{2} x_{3} x_{4}^{2} x_{5} x_{6} x_{7} x_{8} x_{9}}{2} + \\frac{x_{1} x_{2}^{2} x_{3} x_{4} x_{5}^{2} x_{6} x_{7} x_{8} x_{9}}{2} + \\frac{x_{1} x_{2}^{2} x_{3} x_{4} x_{5} x_{6}^{2} x_{7} x_{8} x_{9}}{2} + \\frac{x_{1} x_{2}^{2} x_{3} x_{4} x_{5} x_{6} x_{7}^{2} x_{8} x_{9}}{2} + \\frac{x_{1} x_{2}^{2} x_{3} x_{4} x_{5} x_{6} x_{7} x_{8}^{2} x_{9}}{2} + \\frac{x_{1} x_{2}^{2} x_{3} x_{4} x_{5} x_{6} x_{7} x_{8} x_{9}^{2}}{2} + \\frac{x_{1} x_{2} x_{3}^{3} x_{4} x_{5} x_{6} x_{7} x_{8} x_{9}}{3} + \\frac{x_{1} x_{2} x_{3}^{2} x_{4}^{2} x_{5} x_{6} x_{7} x_{8} x_{9}}{2} + \\frac{x_{1} x_{2} x_{3}^{2} x_{4} x_{5}^{2} x_{6} x_{7} x_{8} x_{9}}{2} + \\frac{x_{1} x_{2} x_{3}^{2} x_{4} x_{5} x_{6}^{2} x_{7} x_{8} x_{9}}{2} + \\frac{x_{1} x_{2} x_{3}^{2} x_{4} x_{5} x_{6} x_{7}^{2} x_{8} x_{9}}{2} + \\frac{x_{1} x_{2} x_{3}^{2} x_{4} x_{5} x_{6} x_{7} x_{8}^{2} x_{9}}{2} + \\frac{x_{1} x_{2} x_{3}^{2} x_{4} x_{5} x_{6} x_{7} x_{8} x_{9}^{2}}{2} + \\frac{x_{1} x_{2} x_{3} x_{4}^{3} x_{5} x_{6} x_{7} x_{8} x_{9}}{3} + \\frac{x_{1} x_{2} x_{3} x_{4}^{2} x_{5}^{2} x_{6} x_{7} x_{8} x_{9}}{2} + \\frac{x_{1} x_{2} x_{3} x_{4}^{2} x_{5} x_{6}^{2} x_{7} x_{8} x_{9}}{2} + \\frac{x_{1} x_{2} x_{3} x_{4}^{2} x_{5} x_{6} x_{7}^{2} x_{8} x_{9}}{2} + \\frac{x_{1} x_{2} x_{3} x_{4}^{2} x_{5} x_{6} x_{7} x_{8}^{2} x_{9}}{2} + \\frac{x_{1} x_{2} x_{3} x_{4}^{2} x_{5} x_{6} x_{7} x_{8} x_{9}^{2}}{2} + \\frac{x_{1} x_{2} x_{3} x_{4} x_{5}^{3} x_{6} x_{7} x_{8} x_{9}}{3} + \\frac{x_{1} x_{2} x_{3} x_{4} x_{5}^{2} x_{6}^{2} x_{7} x_{8} x_{9}}{2} + \\frac{x_{1} x_{2} x_{3} x_{4} x_{5}^{2} x_{6} x_{7}^{2} x_{8} x_{9}}{2} + \\frac{x_{1} x_{2} x_{3} x_{4} x_{5}^{2} x_{6} x_{7} x_{8}^{2} x_{9}}{2} + \\frac{x_{1} x_{2} x_{3} x_{4} x_{5}^{2} x_{6} x_{7} x_{8} x_{9}^{2}}{2} + \\frac{x_{1} x_{2} x_{3} x_{4} x_{5} x_{6}^{3} x_{7} x_{8} x_{9}}{3} + \\frac{x_{1} x_{2} x_{3} x_{4} x_{5} x_{6}^{2} x_{7}^{2} x_{8} x_{9}}{2} + \\frac{x_{1} x_{2} x_{3} x_{4} x_{5} x_{6}^{2} x_{7} x_{8}^{2} x_{9}}{2} + \\frac{x_{1} x_{2} x_{3} x_{4} x_{5} x_{6}^{2} x_{7} x_{8} x_{9}^{2}}{2} + \\frac{x_{1} x_{2} x_{3} x_{4} x_{5} x_{6} x_{7}^{3} x_{8} x_{9}}{3} + \\frac{x_{1} x_{2} x_{3} x_{4} x_{5} x_{6} x_{7}^{2} x_{8}^{2} x_{9}}{2} + \\frac{x_{1} x_{2} x_{3} x_{4} x_{5} x_{6} x_{7}^{2} x_{8} x_{9}^{2}}{2} + \\frac{x_{1} x_{2} x_{3} x_{4} x_{5} x_{6} x_{7} x_{8}^{3} x_{9}}{3} + \\frac{x_{1} x_{2} x_{3} x_{4} x_{5} x_{6} x_{7} x_{8}^{2} x_{9}^{2}}{2} + \\frac{x_{1} x_{2} x_{3} x_{4} x_{5} x_{6} x_{7} x_{8} x_{9}^{3}}{3}\\right)$$"
      ],
      "text/plain": [
       "      3                                ⎛  2                                2  \n",
       "x₁⋅x₁₀ ⋅x₂⋅x₃⋅x₄⋅x₅⋅x₆⋅x₇⋅x₈⋅x₉      2 ⎜x₁ ⋅x₂⋅x₃⋅x₄⋅x₅⋅x₆⋅x₇⋅x₈⋅x₉   x₁⋅x₂ ⋅x\n",
       "─────────────────────────────── + x₁₀ ⋅⎜─────────────────────────── + ────────\n",
       "               3                       ⎝             2                        \n",
       "\n",
       "                              2                                2              \n",
       "₃⋅x₄⋅x₅⋅x₆⋅x₇⋅x₈⋅x₉   x₁⋅x₂⋅x₃ ⋅x₄⋅x₅⋅x₆⋅x₇⋅x₈⋅x₉   x₁⋅x₂⋅x₃⋅x₄ ⋅x₅⋅x₆⋅x₇⋅x₈⋅x\n",
       "─────────────────── + ─────────────────────────── + ──────────────────────────\n",
       "     2                             2                             2            \n",
       "\n",
       "                  2                                2                          \n",
       "₉   x₁⋅x₂⋅x₃⋅x₄⋅x₅ ⋅x₆⋅x₇⋅x₈⋅x₉   x₁⋅x₂⋅x₃⋅x₄⋅x₅⋅x₆ ⋅x₇⋅x₈⋅x₉   x₁⋅x₂⋅x₃⋅x₄⋅x₅\n",
       "─ + ─────────────────────────── + ─────────────────────────── + ──────────────\n",
       "                 2                             2                             2\n",
       "\n",
       "      2                                2                                2⎞    \n",
       "⋅x₆⋅x₇ ⋅x₈⋅x₉   x₁⋅x₂⋅x₃⋅x₄⋅x₅⋅x₆⋅x₇⋅x₈ ⋅x₉   x₁⋅x₂⋅x₃⋅x₄⋅x₅⋅x₆⋅x₇⋅x₈⋅x₉ ⎟    \n",
       "───────────── + ─────────────────────────── + ───────────────────────────⎟ + x\n",
       "                             2                             2             ⎠    \n",
       "\n",
       "   ⎛  3                             2   2                          2      2   \n",
       "   ⎜x₁ ⋅x₂⋅x₃⋅x₄⋅x₅⋅x₆⋅x₇⋅x₈⋅x₉   x₁ ⋅x₂ ⋅x₃⋅x₄⋅x₅⋅x₆⋅x₇⋅x₈⋅x₉   x₁ ⋅x₂⋅x₃ ⋅x₄\n",
       "₁₀⋅⎜─────────────────────────── + ──────────────────────────── + ─────────────\n",
       "   ⎝             3                             2                              \n",
       "\n",
       "                    2         2                    2            2             \n",
       "⋅x₅⋅x₆⋅x₇⋅x₈⋅x₉   x₁ ⋅x₂⋅x₃⋅x₄ ⋅x₅⋅x₆⋅x₇⋅x₈⋅x₉   x₁ ⋅x₂⋅x₃⋅x₄⋅x₅ ⋅x₆⋅x₇⋅x₈⋅x₉ \n",
       "─────────────── + ──────────────────────────── + ──────────────────────────── \n",
       "2                              2                              2               \n",
       "\n",
       "    2               2              2                  2           2           \n",
       "  x₁ ⋅x₂⋅x₃⋅x₄⋅x₅⋅x₆ ⋅x₇⋅x₈⋅x₉   x₁ ⋅x₂⋅x₃⋅x₄⋅x₅⋅x₆⋅x₇ ⋅x₈⋅x₉   x₁ ⋅x₂⋅x₃⋅x₄⋅x\n",
       "+ ──────────────────────────── + ──────────────────────────── + ──────────────\n",
       "               2                              2                              2\n",
       "\n",
       "          2        2                        2        3                        \n",
       "₅⋅x₆⋅x₇⋅x₈ ⋅x₉   x₁ ⋅x₂⋅x₃⋅x₄⋅x₅⋅x₆⋅x₇⋅x₈⋅x₉    x₁⋅x₂ ⋅x₃⋅x₄⋅x₅⋅x₆⋅x₇⋅x₈⋅x₉   \n",
       "────────────── + ──────────────────────────── + ─────────────────────────── + \n",
       "                              2                              3                \n",
       "\n",
       "     2   2                          2      2                       2         2\n",
       "x₁⋅x₂ ⋅x₃ ⋅x₄⋅x₅⋅x₆⋅x₇⋅x₈⋅x₉   x₁⋅x₂ ⋅x₃⋅x₄ ⋅x₅⋅x₆⋅x₇⋅x₈⋅x₉   x₁⋅x₂ ⋅x₃⋅x₄⋅x₅ \n",
       "──────────────────────────── + ──────────────────────────── + ────────────────\n",
       "             2                              2                              2  \n",
       "\n",
       "                    2            2                 2               2          \n",
       "⋅x₆⋅x₇⋅x₈⋅x₉   x₁⋅x₂ ⋅x₃⋅x₄⋅x₅⋅x₆ ⋅x₇⋅x₈⋅x₉   x₁⋅x₂ ⋅x₃⋅x₄⋅x₅⋅x₆⋅x₇ ⋅x₈⋅x₉   x\n",
       "──────────── + ──────────────────────────── + ──────────────────────────── + ─\n",
       "                            2                              2                  \n",
       "\n",
       "    2                  2           2                     2           3        \n",
       "₁⋅x₂ ⋅x₃⋅x₄⋅x₅⋅x₆⋅x₇⋅x₈ ⋅x₉   x₁⋅x₂ ⋅x₃⋅x₄⋅x₅⋅x₆⋅x₇⋅x₈⋅x₉    x₁⋅x₂⋅x₃ ⋅x₄⋅x₅⋅x\n",
       "─────────────────────────── + ──────────────────────────── + ─────────────────\n",
       "            2                              2                              3   \n",
       "\n",
       "                     2   2                          2      2                  \n",
       "₆⋅x₇⋅x₈⋅x₉   x₁⋅x₂⋅x₃ ⋅x₄ ⋅x₅⋅x₆⋅x₇⋅x₈⋅x₉   x₁⋅x₂⋅x₃ ⋅x₄⋅x₅ ⋅x₆⋅x₇⋅x₈⋅x₉   x₁⋅\n",
       "────────── + ──────────────────────────── + ──────────────────────────── + ───\n",
       "                          2                              2                    \n",
       "\n",
       "     2         2                    2            2                 2          \n",
       "x₂⋅x₃ ⋅x₄⋅x₅⋅x₆ ⋅x₇⋅x₈⋅x₉   x₁⋅x₂⋅x₃ ⋅x₄⋅x₅⋅x₆⋅x₇ ⋅x₈⋅x₉   x₁⋅x₂⋅x₃ ⋅x₄⋅x₅⋅x₆⋅\n",
       "───────────────────────── + ──────────────────────────── + ───────────────────\n",
       "          2                              2                              2     \n",
       "\n",
       "     2              2                  2              3                       \n",
       "x₇⋅x₈ ⋅x₉   x₁⋅x₂⋅x₃ ⋅x₄⋅x₅⋅x₆⋅x₇⋅x₈⋅x₉    x₁⋅x₂⋅x₃⋅x₄ ⋅x₅⋅x₆⋅x₇⋅x₈⋅x₉   x₁⋅x₂\n",
       "───────── + ──────────────────────────── + ─────────────────────────── + ─────\n",
       "                         2                              3                     \n",
       "\n",
       "      2   2                          2      2                       2         \n",
       "⋅x₃⋅x₄ ⋅x₅ ⋅x₆⋅x₇⋅x₈⋅x₉   x₁⋅x₂⋅x₃⋅x₄ ⋅x₅⋅x₆ ⋅x₇⋅x₈⋅x₉   x₁⋅x₂⋅x₃⋅x₄ ⋅x₅⋅x₆⋅x₇\n",
       "─────────────────────── + ──────────────────────────── + ─────────────────────\n",
       "        2                              2                              2       \n",
       "\n",
       "2                    2            2                 2               2         \n",
       " ⋅x₈⋅x₉   x₁⋅x₂⋅x₃⋅x₄ ⋅x₅⋅x₆⋅x₇⋅x₈ ⋅x₉   x₁⋅x₂⋅x₃⋅x₄ ⋅x₅⋅x₆⋅x₇⋅x₈⋅x₉    x₁⋅x₂⋅\n",
       "─────── + ──────────────────────────── + ──────────────────────────── + ──────\n",
       "                       2                              2                       \n",
       "\n",
       "        3                             2   2                          2      2 \n",
       "x₃⋅x₄⋅x₅ ⋅x₆⋅x₇⋅x₈⋅x₉   x₁⋅x₂⋅x₃⋅x₄⋅x₅ ⋅x₆ ⋅x₇⋅x₈⋅x₉   x₁⋅x₂⋅x₃⋅x₄⋅x₅ ⋅x₆⋅x₇ ⋅\n",
       "───────────────────── + ──────────────────────────── + ───────────────────────\n",
       "       3                             2                              2         \n",
       "\n",
       "                      2         2                    2            2           \n",
       "x₈⋅x₉   x₁⋅x₂⋅x₃⋅x₄⋅x₅ ⋅x₆⋅x₇⋅x₈ ⋅x₉   x₁⋅x₂⋅x₃⋅x₄⋅x₅ ⋅x₆⋅x₇⋅x₈⋅x₉    x₁⋅x₂⋅x₃\n",
       "───── + ──────────────────────────── + ──────────────────────────── + ────────\n",
       "                     2                              2                         \n",
       "\n",
       "         3                             2   2                          2      2\n",
       "⋅x₄⋅x₅⋅x₆ ⋅x₇⋅x₈⋅x₉   x₁⋅x₂⋅x₃⋅x₄⋅x₅⋅x₆ ⋅x₇ ⋅x₈⋅x₉   x₁⋅x₂⋅x₃⋅x₄⋅x₅⋅x₆ ⋅x₇⋅x₈ \n",
       "─────────────────── + ──────────────────────────── + ─────────────────────────\n",
       "     3                             2                              2           \n",
       "\n",
       "                       2         2                       3                    \n",
       "⋅x₉   x₁⋅x₂⋅x₃⋅x₄⋅x₅⋅x₆ ⋅x₇⋅x₈⋅x₉    x₁⋅x₂⋅x₃⋅x₄⋅x₅⋅x₆⋅x₇ ⋅x₈⋅x₉   x₁⋅x₂⋅x₃⋅x₄\n",
       "─── + ──────────────────────────── + ─────────────────────────── + ───────────\n",
       "                   2                              3                           \n",
       "\n",
       "         2   2                          2      2                          3   \n",
       "⋅x₅⋅x₆⋅x₇ ⋅x₈ ⋅x₉   x₁⋅x₂⋅x₃⋅x₄⋅x₅⋅x₆⋅x₇ ⋅x₈⋅x₉    x₁⋅x₂⋅x₃⋅x₄⋅x₅⋅x₆⋅x₇⋅x₈ ⋅x₉\n",
       "───────────────── + ──────────────────────────── + ───────────────────────────\n",
       "  2                              2                              3             \n",
       "\n",
       "                          2   2                             3⎞\n",
       "   x₁⋅x₂⋅x₃⋅x₄⋅x₅⋅x₆⋅x₇⋅x₈ ⋅x₉    x₁⋅x₂⋅x₃⋅x₄⋅x₅⋅x₆⋅x₇⋅x₈⋅x₉ ⎟\n",
       " + ──────────────────────────── + ───────────────────────────⎟\n",
       "                2                              3             ⎠"
      ]
     },
     "execution_count": 2,
     "metadata": {},
     "output_type": "execute_result"
    }
   ],
   "source": [
    "# Let's use sympy to verify that funny 155/6 claimed by your textbook:\n",
    "from sympy import *\n",
    "init_printing(use_unicode=True)\n",
    "x1,x2,x3,x4,x5,x6,x7,x8,x9,x10=symbols('x1 x2 x3 x4 x5 x6 x7 x8 x9 x10') # tell sympy about the symbols we want to use\n",
    "integrate((x1+x2+x3+x4+x5+x6+x7+x8+x9+x10)*(x1+x2+x3+x4+x5+x6+x7+x8+x9+x10),x1,x2,x3,x4,x5,x6,x7,x8,x9,x10)"
   ]
  },
  {
   "cell_type": "code",
   "execution_count": 3,
   "metadata": {},
   "outputs": [
    {
     "data": {
      "image/png": "[encoded data removed]",
      "text/latex": [
       "$$\\frac{155}{6}$$"
      ],
      "text/plain": [
       "155/6"
      ]
     },
     "execution_count": 3,
     "metadata": {},
     "output_type": "execute_result"
    }
   ],
   "source": [
    "# good to know. let's put in the limits now:\n",
    "integrate((x1+x2+x3+x4+x5+x6+x7+x8+x9+x10)*(x1+x2+x3+x4+x5+x6+x7+x8+x9+x10),\n",
    "          (x1,0,1),(x2,0,1),(x3,0,1),(x4,0,1),(x5,0,1),(x6,0,1),(x7,0,1),\n",
    "          (x8,0,1),(x9,0,1),(x10,0,1))"
   ]
  },
  {
   "cell_type": "markdown",
   "metadata": {},
   "source": [
    "Confirmed -- exactly as stated. BTW, sympy also knows how to integrate to infinity (oo and -oo), and it can also take derivatives sympbolically as well as do all that algebra for us. It can even spit out a result in LaTeX. \n",
    "\n",
    "------\n",
    "------\n",
    "\n",
    "Back to our problem now:\n",
    "\n",
    "a) implement a MC integration of $I$ using $N$ uniformly generated random points (no need to do importance sampling in this problem). Do this for $N=2^p$, where $p=5, 6, 7, ...18$ (so your largest $N$ is 262144). Plot the absolute value of the error vs $\\sqrt{N}$ on a log-log plot. There will be statistical fluctuations, so try it a few times to ensure you see the overall behavior. (Your book suggests averaging 16 results per value of $N$ -- feel free to do that, but it's not required here.)"
   ]
  },
  {
   "cell_type": "code",
   "execution_count": 1,
   "metadata": {},
   "outputs": [],
   "source": [
    "# your code and results here\n"
   ]
  },
  {
   "cell_type": "markdown",
   "metadata": {},
   "source": [
    "b) now let's compare with a Trapeoid integration -- in that case we must distribute the $N$ points over an evenly spaced mesh spanning the $D$-dimensional space, so the integration steps are coarse (if, for example, there were 100 points in each dimension, we would be required to sum $100^D$ terms to perform a standard numerical integration. Not possible for $D=10$).\n",
    "\n",
    "We will therefore investigate $D=7$. If we limit $N$ to around the size of the largest value from part (a) and distribute those points over 7 dimensions, can have at most 6 points for each dimension (for a total of $279,936$ points in this part of the problem)!! As the integration limits are 0 to 1, $h=0.2$. Note:\n",
    "  - You might find it helpful first to think about moving from 1-dim to 2-dim to 3-dim integrals as you generalize your calculation to 10 dimensions:\n",
    "    - You'll need nested loops, one for each integration variable.\n",
    "    - For a D-dimensional integral, there are D weights to multiply together at each step."
   ]
  },
  {
   "cell_type": "code",
   "execution_count": null,
   "metadata": {},
   "outputs": [],
   "source": []
  },
  {
   "cell_type": "markdown",
   "metadata": {},
   "source": [
    "c) Now evalute the integral via MC for the same $N=6^D$ and $D=7$ as in part (b)."
   ]
  },
  {
   "cell_type": "code",
   "execution_count": null,
   "metadata": {},
   "outputs": [],
   "source": []
  },
  {
   "cell_type": "markdown",
   "metadata": {},
   "source": [
    "d) Finally, use sympy to tell you the analytic answer and compare your MC and Trapezoid results. Remember, we're just at $D=7$ here. (Imagine extrapolating your Trapezoid integration to $D=10$ -- with just 6 points per dimension, that would be more than 60 million points in the 10-dimensional volume.)"
   ]
  },
  {
   "cell_type": "code",
   "execution_count": null,
   "metadata": {},
   "outputs": [],
   "source": []
  },
  {
   "cell_type": "markdown",
   "metadata": {},
   "source": [
    "## Problem 2\n",
    "\n",
    "We can adapt the random walk we did in lecture to estimate how well a lead wall provides shielding against a beam of neutrons. Model the situation as follows:\n",
    "\n",
    "  - For simplicity, work in 2 dimensions ($x$ and $y$). In other words, all the action takes place in the plane $z=0$.\n",
    "  - Each neutron enters the lead wall in the $x$ direction at position $x=y=0$, at normal incidence. In other words, the face of the wall is along $y$ at $x=0$.\n",
    "  - The neutron travels a one-unit distance in the $x$ direction. Then it collides with a lead atom and rebounds in a random direction (*i.e*, assume the scattering probability is uniform in $\\theta$.) \n",
    "  - The neutron travels a one-unit distance in the new direction and collides with another lead atom and rebounds in another new direction, and so on. There is always a one-unit distance between collisions.\n",
    "  - Having lost some energy in each collision, after 15 collisions the neutron stops. Thus, you track each neutron through up to 15 collisions.\n",
    "  - Make the wall 5 units thick in the $x$ direction and effectively infinite in $\\pm y$. If the neutron makes it through the wall ($x>5$), or exits the front face of the wall ($x<0$), it has escaped (no need to track it further).\n",
    "\n",
    "a) Simulate at least 100,000 neutrons. What fraction of the incident neutrons pass through to the other side of the wall?\n",
    "\n",
    "b) Make a histogram of the $y$ coordinate where neutrons exit the wall.\n",
    "\n",
    "c) What would you have to modify to do the problem in 3 dimensions? (No additional code is necessary here, just describe how you would model a 3-D random walk.)\n"
   ]
  },
  {
   "cell_type": "code",
   "execution_count": 11,
   "metadata": {},
   "outputs": [],
   "source": [
    "# your code and results for parts (a) and (b) here."
   ]
  },
  {
   "cell_type": "markdown",
   "metadata": {},
   "source": [
    "Your answer to part (c) here."
   ]
  },
  {
   "cell_type": "markdown",
   "metadata": {},
   "source": [
    "## Problem 3\n",
    "\n",
    "Revisit the 1-dimensional Ising model calculation we did in class (Lectures4.ipynb). \n",
    "\n",
    "a) Find the inefficiency in the method used and fix it so the calculation the runs much faster. Then, redo the simulation for 2000 spins and plot the magnetization. You should see a much smoother distribution.\n"
   ]
  },
  {
   "cell_type": "code",
   "execution_count": 12,
   "metadata": {},
   "outputs": [],
   "source": [
    "# your code and results here. What did you do to improve the computation time required?"
   ]
  },
  {
   "cell_type": "markdown",
   "metadata": {},
   "source": [
    "b) Compare your simulation result with the analytic result for the magnetization (Landau Eqn. 17.9):\n",
    "\n",
    "$$\n",
    "M = \\frac{N e^{J/kT} \\sinh(B/kT)}\n",
    "{\\sqrt{e^{2J/kT} \\sinh^2 (B/kT) + e^{-2J/kT}}}\n",
    "$$"
   ]
  },
  {
   "cell_type": "code",
   "execution_count": 13,
   "metadata": {},
   "outputs": [],
   "source": [
    "# your code and results here\n"
   ]
  },
  {
   "cell_type": "markdown",
   "metadata": {},
   "source": [
    "## Problem 4\n",
    "\n",
    "This is an exercise in applying the bisection root-finding technique to a physics problem. In Quantum Mechanics, when solving the finite well problem, the spatially even bound states were found to be associated with the solutions to a transcendental equation:\n",
    "\n",
    "$$\\tan(z)=\\sqrt{(z_0/z)^2-1}$$\n",
    "\n",
    "where $z_0$ is a dimensionless parameter related to the depth and width of the well (smaller $z_0$ is a shallower and/or narrower well). Let's solve the problem for $z_0=8$.\n",
    "\n",
    "A quick sketch of the functions on the left and right side of the equation above will convince you there are only three bound states of this type (the two sides are equal where their curves cross, and those are the solutions -- you can also see Figure 2.18 in Griffiths). As the $\\tan$ function behaves badly around $m\\pi/2$ ($m=1, 3, 5, ...$) you'll have to take some care to find the three values of $z$ that represent the three bound states.\n",
    "\n",
    "Find those three values of $z$ numerically with precision $10^{-3}$. Check that your results roughly match your expectation from your sketch."
   ]
  },
  {
   "cell_type": "code",
   "execution_count": null,
   "metadata": {},
   "outputs": [],
   "source": []
  },
  {
   "cell_type": "code",
   "execution_count": null,
   "metadata": {},
   "outputs": [],
   "source": []
  },
  {
   "cell_type": "code",
   "execution_count": null,
   "metadata": {},
   "outputs": [],
   "source": []
  },
  {
   "cell_type": "code",
   "execution_count": null,
   "metadata": {},
   "outputs": [],
   "source": []
  }
 ],
 "metadata": {
  "kernelspec": {
   "display_name": "Python 3",
   "language": "python",
   "name": "python3"
  },
  "language_info": {
   "codemirror_mode": {
    "name": "ipython",
    "version": 3
   },
   "file_extension": ".py",
   "mimetype": "text/x-python",
   "name": "python",
   "nbconvert_exporter": "python",
   "pygments_lexer": "ipython3",
   "version": "3.6.7"
  }
 },
 "nbformat": 4,
 "nbformat_minor": 2
}
