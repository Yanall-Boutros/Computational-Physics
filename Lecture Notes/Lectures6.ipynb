{
 "cells": [
  {
   "cell_type": "code",
   "execution_count": 3,
   "metadata": {},
   "outputs": [],
   "source": [
    "import numpy as np\n",
    "import matplotlib.pyplot as plt\n",
    "% matplotlib inline"
   ]
  },
  {
   "cell_type": "markdown",
   "metadata": {},
   "source": [
    "Technique for fitting when:\n",
    "* more data points than fit function parameters\n",
    "* want to take into account individual errors on points\n",
    "* want a measure of the quality of a fit\n",
    "\n",
    "Most common is some version of...\n",
    "\n",
    "## Least Squares Fitting (and some matrix computing)\n",
    "\n",
    "Need a quantity to minimize:\n",
    "\n",
    "$$\n",
    " \\chi^{2}  =  \\sum_{i=1}^{N_{D}}\n",
    "\\left(\\frac{y_{i} - g(x_{i}, a_m)} {\\sigma_{i}}\\right)^{2}$$\n",
    "\n",
    "where the $\\sigma_{i}$ are the errors on each data point, $y_i$, and the fit function, $g$, has (\"internal\") parameters, $a_m$.\n",
    "\n",
    "*Least-squares fitting*: \n",
    "* adjust the parameters $a_m$ in the theory until a minimum in $\\chi^2$ is found, that is, finding a curve that produces the least value for the summed squares of the deviations of the data from the function $g(x)$, weighted by the error for each data point. \n",
    "\n",
    "Note: $g$ not necessarily linear in the $a_m$. \n",
    "* In that case, it is still possible to find parameter values that minimize the $\\chi^2$ by using a trial-and-error method (*e.g.*, gradient sensing, following the idea behind Newton-Raphson) in a multi-dimensional space. \n"
   ]
  },
  {
   "cell_type": "markdown",
   "metadata": {},
   "source": [
    "#### Linear case\n",
    "\n",
    "The function being fitted depends only *linearly* on the unknown parameters $a_m$. Then,\n",
    "* minimumization condition for $\\chi^2$ leads to a set of simultaneous linear equations for the $a_m$ that can be solved using numerical matrix techniques.\n",
    "\n",
    "For example, a fit to \n",
    "\n",
    "$$g(x) = a_1 + a_2x + a_3x^{2}$$\n",
    "\n",
    "is linear: although $x$ is raised to the second power, the dependence on the $a_m$ parameters is entirely linear.\n",
    "\n",
    "The $\\chi^2$ minimization leads to the\n",
    "three simultaneous equations for the three $a_m$ (see your textbook section 7.8.1):\n",
    "\n",
    "$$\\begin{align}\n",
    "\\sum_{i=1}^{N_{D}}  \\frac{[y_{i}-g(x_{i})]}{\\sigma_{i}^{2}}\n",
    "\\frac{\\partial g(x_i)} {\\partial a_{1}} & =  0, \\quad\n",
    "\\frac{\\partial g}{\\partial a_1} =1,\\\\\n",
    "\\sum_{i=1}^{N_{D}}  \\frac{[y_{i}-g(x_{i})]}{\\sigma_{i}^{2}}\n",
    "\\frac{\\partial g(x_i)} {\\partial a_{2}} & =  0, \\quad \\frac{\\partial g}{\\partial a_2} =\n",
    "x,\\\\\n",
    "\\sum_{i=1}^{N_{D}}   \\frac{[y_{i}-g(x_{i})]}{\\sigma_{i}^{2}}\n",
    " \\frac{\\partial g(x_i)} {\\partial a_{3}} & =  0 , \\quad \\frac{\\partial g}{\\partial\n",
    " a_3}=x^2\n",
    "\\end{align}$$\n",
    " \n",
    "The key here is that all of these equations are linear in $x_1, x_2, \\dots, x_N$, so we can write the system of equations in matrix form.\n",
    "\n",
    "The system of equations:\n",
    "$$\\begin{align}\n",
    "S a_1 + S_{x}a_2 + S_{xx}a_3 & = S_{y}, \\\\ S_{x}a_1 + S_{xx} a_2 + S_{xxx} a_3 & =\n",
    "S_{xy}, \\\\ S_{xx} a_1 + S_{xxx} a_2 + S_{xxxx} a_3 & = S_{xxy} \\end{align}$$\n",
    "\n",
    "can be converted to matrix form with unknown parameter values $a_m$ collected in vector $\\bf x$:\n",
    "\n",
    "$$\\begin{align}\n",
    " &{\\bf A}{\\bf x}  = {\\bf b},  \\\\\n",
    " & \\\\\n",
    " &{\\bf A}  = \\left[\\begin{array}{lll}\n",
    "S & S_{x} & S_{xx}\\\\\n",
    " S_{x} & S_{xx} & S_{xxx} \\\\\n",
    " S_{xx} & S_{xxx} & S_{xxxx}\\end{array} \\right]\\!,\\quad\n",
    " {\\bf x} =\n",
    "\\left[\\begin{array}{l}\n",
    "a_1\\\\ a_2\\\\ a_3\\end{array} \\right]\\!,\\quad {\\bf b} =\n",
    "\\left[\\begin{array}{l} S_{y}\\\\ S_{xy}\\\\ S_{xxy}\n",
    "\\end{array} \\right]\n",
    "\\end{align}$$\n",
    "\n",
    "where all those $S$s are defined in your textbook in equations (7.47) through (7.52). Also see section 7.8.1. \n",
    "The solution for $\\bf x$ is obtained by solving the equation computationally.\n",
    "\n",
    "Once we have the parameter values $a_m$, we have the complete function of the fitted curve \n",
    "$$g(x) = a_1 + a_2x + a_3x^{2}$$ for any set of $x$ values.\n",
    "\n",
    "...so, HOW do we do matrix calculations on a computer? In particular, how do we solve for the unknown vector $\\bf x$? We must digress:"
   ]
  },
  {
   "cell_type": "markdown",
   "metadata": {},
   "source": [
    "---------------------------------\n",
    "--------\n",
    "------\n",
    "\n",
    "## Matrix computing\n",
    "\n",
    "See Chapter 6 of your book. \n",
    "\n",
    "Represent matrices as NumPy arrays.\n",
    "* The NumPy package converts Python lists to proper arrays with the `array` function.\n",
    "* The NumPy `linalg` package contains all of the linear algebra operations.\n",
    "\n",
    "List of NumPy operators and their effects.\n",
    "\n",
    "|*Operator* | *Effect*|*Operator*|*Effect*| \n",
    "|- - -|- - - |- - -|- - - | \n",
    "|dot(a,b\\[,out\\]) | Dot product arrays | vdot(a, b) | Dot product | \n",
    "|inner(a, b) | Inner product arrays |outer(a, b) | Outer product | \n",
    "|tensordot(a, b) | Tensor dot product | einsum( ) |Einstein sum | \n",
    "|linalg.matrix_power(M, n) | Matrix to power n | kron(a, b) | Kronecker product| \n",
    "|linalg.cholesky(a) | Cholesky decomp |linalg.qr(a)| QR factorization | \n",
    "|linalg.svd(a ) | Singular val decomp |linalg.eig(a) | Eigenproblem | \n",
    "|linalg.eigh(a) | Hermitian eigen |linalg.eigvals(a)| General eigen |\n",
    "|linalg.eigvalsh(a) | Hermitian eigenvals |linalg.norm(x) |Matrix norm | \n",
    "|linalg.cond(x) | Condition number |linalg.det(a) | Determinant | \n",
    "|linalg.slogdet(a) | Sign & log(det) |trace(a) | Diagnol sum | \n",
    "|linalg.solve(a, b) | Solve equation |linalg.tensorsolve(a, b) | Solve a x = b | \n",
    "|linalg.lstsq(a, b) |Least-squares solve |linalg.inv(a) | Inverse | \n",
    "|linalg.pinv(a) | Penrose inverse|linalg.tensorinv(a)| Inverse N-D array |\n",
    "\n",
    "Many similar packages, including in other languages, are based on the standard [LAPACK libraries](http://www.netlib.org/lapack/). \n",
    "\n",
    "-------\n",
    "-------\n",
    "Here's an example that is familiar:\n",
    "\n",
    "<img src=\"Figures/Resistor_Network.png\" width=\"30%\">\n",
    "\n",
    "Kirchhoff's laws:\n",
    "$$\n",
    "\\left(\n",
    "\\begin{array}{c}\n",
    "I_1 + I_2 + I_3 \\\\\n",
    "-2 I_1 + 3 I_2 \\\\\n",
    "-3 I_2 + 6 I_3\n",
    "\\end{array}\n",
    "\\right)\n",
    "= \n",
    "\\left(\n",
    "\\begin{array}{c}\n",
    "0 \\\\\n",
    "24 \\\\\n",
    "0\n",
    "\\end{array}\n",
    "\\right)\n",
    "$$\n",
    "\n",
    "By inspection, we would expect $I_1$ to be negative. Let's see that happen (we don't have to put it in by hand, the algebra will tell us).\n",
    "\n",
    "Such a system can be written in matrix form $\\bf{Ax} = \\bf{b}$\n",
    "\n",
    "$$\n",
    "\\begin{bmatrix}\n",
    "    1 & 1 & 1 \\\\\n",
    "    -2 & 3 & 0 \\\\\n",
    "    0 & -3 & 6\n",
    "\\end{bmatrix}\n",
    "\\left[\n",
    "\\begin{array}{c}\n",
    "I_1 \\\\\n",
    "I_2 \\\\\n",
    "I_3\n",
    "\\end{array}\n",
    "\\right]\n",
    "=\n",
    "\\begin{bmatrix}\n",
    "0 \\\\\n",
    "24 \\\\\n",
    "0\n",
    "\\end{bmatrix}\n",
    "$$\n",
    "\n",
    "And tell numpy to solve it:"
   ]
  },
  {
   "cell_type": "code",
   "execution_count": 6,
   "metadata": {},
   "outputs": [
    {
     "name": "stdout",
     "output_type": "stream",
     "text": [
      "I1= -6.0   I2= 4.0    and I3= 2.0\n"
     ]
    }
   ],
   "source": [
    "from numpy.linalg import inv\n",
    "from numpy.linalg import solve\n",
    "inputs = np.array([1., 1., 1., -2., 3., 0., 0., -3., 6.])  # just enter the elements row-wise, then\n",
    "#\n",
    "A = inputs.reshape(3,3)     # reshape to construct the matrix. See next cell to ensure we got it right.\n",
    "#\n",
    "inputs = np.array([0., 24., 0])\n",
    "b = inputs.reshape(3,1)  # construct the column vector\n",
    "x = np.linalg.solve(A,b)  # magic!\n",
    "print(\"I1= %.1f   I2= %.1f    and I3= %.1f\"%(x[0],x[1],x[2]))\n"
   ]
  },
  {
   "cell_type": "code",
   "execution_count": 12,
   "metadata": {},
   "outputs": [
    {
     "name": "stdout",
     "output_type": "stream",
     "text": [
      "A is\n",
      " [[ 1.  1.  1.]\n",
      " [-2.  3.  0.]\n",
      " [ 0. -3.  6.]]\n",
      "\n",
      " Transpose:\n",
      " [[ 1. -2.  0.]\n",
      " [ 1.  3. -3.]\n",
      " [ 1.  0.  6.]]\n",
      "\n",
      " determinant of A:\n",
      " 36.0\n",
      "\n",
      " this is an important test: see if the inverse of A is correctly calculated by multipying A and A inverse:\n",
      "[[ 1.00000000e+00 -1.38777878e-17  2.77555756e-17]\n",
      " [ 0.00000000e+00  1.00000000e+00  0.00000000e+00]\n",
      " [-5.55111512e-17 -2.77555756e-17  1.00000000e+00]]\n",
      "put the solution back into the equation:\n",
      "\n",
      " [[ 0.]\n",
      " [24.]\n",
      " [ 0.]]\n"
     ]
    }
   ],
   "source": [
    "# let's have a look at some quantities:\n",
    "print(\"A is\\n\", A)\n",
    "print(\"\\n Transpose:\\n\",A.T)\n",
    "print(\"\\n determinant of A:\\n\", np.linalg.det(A))\n",
    "print(\"\\n this is an important test: see if the inverse of A is correctly calculated by multipying A and A inverse:\")\n",
    "print(np.dot(A,inv(A)))\n",
    "print(\"put the solution back into the equation:\\n\\n\", np.dot(A,x))"
   ]
  },
  {
   "cell_type": "markdown",
   "metadata": {},
   "source": [
    "That's great!! \n",
    "\n",
    "(BTW, these techniques are also useful for finding principal axes (eigenvectors) and accompanying eigenvalues, for example finding moments of inertia. Generalizations have been done for [important discoveries](https://www.sciencedirect.com/science/article/pii/037026937990830X), and for analyzing shapes of energy depositions in detectors.)\n",
    "\n",
    "....NOW back top our least-squares fit: Let's generate some random data and do a fit, then we'll deliberately tamper with one of the errors and see what happens. Reuse our $x^2$ random number generator from Lectures3. The errors will be the sqrt of the bin contents."
   ]
  },
  {
   "cell_type": "code",
   "execution_count": 25,
   "metadata": {},
   "outputs": [
    {
     "name": "stdout",
     "output_type": "stream",
     "text": [
      "The bin contents: [  2.  28.  82. 161. 227.]\n",
      "[0.5 1.5 2.5 3.5 4.5]\n"
     ]
    },
    {
     "data": {
      "image/png": "[encoded data removed]",
      "text/plain": [
       "<Figure size 432x288 with 1 Axes>"
      ]
     },
     "metadata": {
      "needs_background": "light"
     },
     "output_type": "display_data"
    }
   ],
   "source": [
    "def w(x):\n",
    "    return (3./pow(5.,3))*x*x\n",
    "\n",
    "N = 500\n",
    "ranx2 = np.zeros(N).astype('float')\n",
    "i=0\n",
    "while (i<N):\n",
    "    r1,r2 = 5.*np.random.random(2)\n",
    "    if (r2<w(r1)):\n",
    "        ranx2[i]=r1\n",
    "        i+=1\n",
    "bins=[0,1,2,3,4,5]\n",
    "bins=np.arange(0,6,1)\n",
    "# the histogram of the data\n",
    "n, binsa, patches = plt.hist(ranx2, bins, facecolor='blue', alpha=0.5, align='mid')\n",
    "plt.xlabel('x')\n",
    "print (\"The bin contents:\",n)\n",
    "plt.ylabel('number in bin')\n",
    "plt.title(r'Histogram of random numbers')\n",
    "print(binsa[:-1]+0.5)\n",
    "plt.show()"
   ]
  },
  {
   "cell_type": "code",
   "execution_count": 26,
   "metadata": {},
   "outputs": [
    {
     "name": "stdout",
     "output_type": "stream",
     "text": [
      "A*inverse(A)\n",
      "[[ 1.00000000e+00  1.07693674e-15  1.64237651e-16]\n",
      " [-7.61153772e-16  1.00000000e+00  6.15955620e-17]\n",
      " [-6.05560415e-15 -2.21174684e-17  1.00000000e+00]] \n",
      "\n",
      "FitParabola Final Results\n",
      "\n",
      "y(x) = a0 + a1 x + a2 x^2\n",
      "a0 = -5.323\n",
      "a1 = 9.524\n",
      "a2 = 9.837 \n",
      "\n"
     ]
    },
    {
     "data": {
      "image/png": "[encoded data removed]",
      "text/plain": [
       "<Figure size 432x288 with 1 Axes>"
      ]
     },
     "metadata": {
      "needs_background": "light"
     },
     "output_type": "display_data"
    }
   ],
   "source": [
    "\"\"\" From \"COMPUTATIONAL PHYSICS\", 3rd Ed \n",
    "    by RH Landau, MJ Paez, and CC Bordeianu\n",
    "    Copyright Wiley-VCH Verlag GmbH & Co. KGaA, Berlin;  Copyright R Landau,\n",
    "    Oregon State Unv, MJ Paez, Univ Antioquia, C Bordeianu, Univ Bucharest, 2015.\n",
    "    Support by National Science Foundation\"\"\"\n",
    "\n",
    "# Fit.py     Linear least square fit; e.g. of matrix computation arrays\n",
    "\t \n",
    "\n",
    "import numpy as np\n",
    "import matplotlib.pyplot as plt\n",
    "from numpy.linalg import inv\n",
    "from numpy.linalg import solve\n",
    "\n",
    "x = binsa[:-1]+0.5  # Given x values\n",
    "y = n*1.      # Given y values\n",
    "plt.scatter(x, y)                                    # Plot data in blue\n",
    "sig = np.sqrt(n*1.)      # error bar lenghts\n",
    "plt.errorbar(x,y,yerr=sig, fmt=\"none\")                                    # Plot error bars\n",
    "plt.title('Linear Least Square Fit')                     # Plot figure\n",
    "plt.xlabel( 'x' )                                        # Label axes\n",
    "plt.ylabel( 'y' )\n",
    "plt.grid(True)                                           # plot grid\n",
    "Nd = len(x)\n",
    "A = np.zeros( (3,3), float )                                # Initialize\n",
    "bvec = np.zeros( (3,1), float )\n",
    "ss = sx = sxx = sy = sxxx = sxxxx = sxy = sxy = sxxy = 0.\n",
    "\n",
    "for i in range(0, Nd):                                      \n",
    "        sig2 = sig[i] * sig[i]\n",
    "        ss  += 1. / sig2;    sx   += x[i]/sig2;        sy    += y[i]/sig2\n",
    "        rhl  = x[i] * x[i];  sxx  += rhl/sig2;   sxxy  += rhl * y[i]/sig2\n",
    "        sxy += x[i]*y[i]/sig2; sxxx +=rhl*x[i]/sig2; sxxxx +=rhl*rhl/sig2\n",
    "\n",
    "A    = np.array([ [ss,sx,sxx], [sx,sxx,sxxx], [sxx,sxxx,sxxxx] ])\n",
    "bvec = np.array([sy, sxy, sxxy])\n",
    "\n",
    "#xvec = np.dot(inv(A), bvec)                             # Invert matrix\n",
    "Itest = np.dot(A, inv(A))              # Matrix multiply. NOTICE this is different from the listing in your book! \n",
    "#print('\\n x vector via inverse')                                       \n",
    "#print(xvec, '\\n')\n",
    "print('A*inverse(A)')\n",
    "print(Itest, '\\n')\n",
    "\n",
    "xvec = solve(A, bvec)                             # Solve via elimination\n",
    "#print('x Matrix via direct') \n",
    "#print(xvec, 'end= ') \n",
    "print('FitParabola Final Results\\n') \n",
    "print('y(x) = a0 + a1 x + a2 x^2')                          # Desired fit\n",
    "print('a0 = %.3f'% xvec[0])                  \n",
    "print('a1 = %.3f'% xvec[1])\n",
    "print('a2 = %.3f'% xvec[2], '\\n')\n",
    "#print(' i   xi     yi    yfit   ')\n",
    "for i in range(0, Nd):\n",
    "    s = xvec[0] + xvec[1]*x[i] + xvec[2]*x[i]*x[i]\n",
    "#    print(\" %d %5.3f  %5.3f  %8.7f \\n\"  %(i, x[i], y[i], s))\n",
    "# red line is the fit, red dots the fits at y[i]\n",
    "t=np.arange(0.3,5.,0.1)\n",
    "curve  = xvec[0] + xvec[1]*t + xvec[2]*t**2\n",
    "plt.plot(t, curve,'r')\n",
    "plt.yscale('linear')\n",
    "plt.show()"
   ]
  },
  {
   "cell_type": "markdown",
   "metadata": {},
   "source": [
    "### Quality of the fit\n",
    "Check the value of $\\chi^2$. Understand the meaning of the value: \n",
    "* the value gets larger with more points. Need some sort of normalization.\n",
    "* the value gets better with more parameters. Need a way to assess the quality, given the number of parameters and the number of points.\n",
    "\n",
    "#### Reduced $\\chi^2$\n",
    "\n",
    "Is given by $ \\chi^2/\\nu$ where $\\nu$ is the **number of degrees of freedom**, which is **the number of data points minus the number of fit parameters**.\n",
    "\n",
    "One can then estimate the probability of obtaining a particular reduce $\\chi^2$ if the errors are correctly sized and the underlying processes are random.\n",
    "\n",
    "Very roughly, the reduced $\\chi^2$ should be around 1. \n",
    "\n",
    "* If it's <<1, you might check that the errors aren't too large.\n",
    "* If it's significantly larger, the fit is bad, because one or more errors are too small, and/or the function is a bad description of the data, and/or the fit algorithm failed.\n",
    "\n",
    "Often the system is more complicated, so we do MC trials, simulating the outcomes and assessing the probabilities of the outcome. \n",
    "\n",
    "BTW, should the curve always go through the data point error bar?? What does that error bar mean?\n",
    "\n",
    "----\n",
    "\n",
    "You can find a good discussion of statistics and fits [here](http://pdg.lbl.gov/2018/reviews/rpp2018-rev-statistics.pdf). See figure 39.1 and the accompanying discussion, showing probability distributions for the reduced $\\chi^2$.\n",
    "\n",
    "----"
   ]
  },
  {
   "cell_type": "code",
   "execution_count": 27,
   "metadata": {},
   "outputs": [
    {
     "name": "stdout",
     "output_type": "stream",
     "text": [
      "chi2 per degree of freedom is 0.89\n"
     ]
    }
   ],
   "source": [
    "def chi2(x,y,sig,xvec):\n",
    "    c2=0.\n",
    "    for i in range(len(x)):\n",
    "        c2+=(xvec[0]+xvec[1]*x[i]+xvec[2]*x[i]*x[i]-y[i])**2/sig[i]**2\n",
    "    return c2\n",
    "zz=chi2(x,y,sig,xvec)\n",
    "print('chi2 per degree of freedom is %2.2f'% (zz/(Nd-3)))"
   ]
  },
  {
   "cell_type": "markdown",
   "metadata": {},
   "source": [
    "Let's redo the fit, artificially reducing the error on the 4th point by an order of magnitude."
   ]
  },
  {
   "cell_type": "code",
   "execution_count": 28,
   "metadata": {},
   "outputs": [
    {
     "name": "stdout",
     "output_type": "stream",
     "text": [
      "A*inverse(A)\n",
      "[[ 1.00000000e+00 -7.88092902e-16 -8.62221487e-16]\n",
      " [-9.16446605e-16  1.00000000e+00  4.89537838e-16]\n",
      " [ 1.01060672e-13 -3.34061055e-14  1.00000000e+00]] \n",
      "\n",
      "FitParabola Final Results\n",
      "\n",
      "y(x) = a0 + a1 x + a2 x^2\n",
      "a0 = -6.18\n",
      "a1 = 10.64\n",
      "a2 = 10.57 \n",
      "\n"
     ]
    },
    {
     "data": {
      "image/png": "[encoded data removed]",
      "text/plain": [
       "<Figure size 432x288 with 1 Axes>"
      ]
     },
     "metadata": {
      "needs_background": "light"
     },
     "output_type": "display_data"
    }
   ],
   "source": [
    "\"\"\" From \"COMPUTATIONAL PHYSICS\", 3rd Ed \n",
    "    by RH Landau, MJ Paez, and CC Bordeianu\n",
    "    Copyright Wiley-VCH Verlag GmbH & Co. KGaA, Berlin;  Copyright R Landau,\n",
    "    Oregon State Unv, MJ Paez, Univ Antioquia, C Bordeianu, Univ Bucharest, 2015.\n",
    "    Support by National Science Foundation\"\"\"\n",
    "\n",
    "# Fit.py     Linear least square fit; e.g. of matrix computation arrays\n",
    "\t \n",
    "\n",
    "import numpy as np\n",
    "import matplotlib.pyplot as plt\n",
    "from numpy.linalg import inv\n",
    "from numpy.linalg import solve\n",
    "\n",
    "x = binsa[:-1]+0.5  # Given x values\n",
    "y = n*1.      # Given y values\n",
    "plt.scatter(x, y)                                    # Plot data in blue\n",
    "sig = np.sqrt(n*1.)      # error bar lenghts\n",
    "#################\n",
    "sig[3]=sig[3]/10. ##################################################################\n",
    "################\n",
    "plt.errorbar(x,y,yerr=sig, fmt=\"none\")                                    # Plot error bars\n",
    "plt.title('Linear Least Square Fit')                     # Plot figure\n",
    "plt.xlabel( 'x' )                                        # Label axes\n",
    "plt.ylabel( 'y' )\n",
    "plt.grid(True)                                           # plot grid\n",
    "Nd = len(x)\n",
    "A = np.zeros( (3,3), float )                                # Initialize\n",
    "bvec = np.zeros( (3,1), float )\n",
    "ss = sx = sxx = sy = sxxx = sxxxx = sxy = sxy = sxxy = 0.\n",
    "\n",
    "for i in range(0, Nd):                                      \n",
    "        sig2 = sig[i] * sig[i]\n",
    "        ss  += 1. / sig2;    sx   += x[i]/sig2;        sy    += y[i]/sig2\n",
    "        rhl  = x[i] * x[i];  sxx  += rhl/sig2;   sxxy  += rhl * y[i]/sig2\n",
    "        sxy += x[i]*y[i]/sig2; sxxx +=rhl*x[i]/sig2; sxxxx +=rhl*rhl/sig2\n",
    "       \n",
    "A    = np.array([ [ss,sx,sxx], [sx,sxx,sxxx], [sxx,sxxx,sxxxx] ])\n",
    "bvec = np.array([sy, sxy, sxxy])\n",
    "\n",
    "#xvec = np.multiply(inv(A), bvec)                             # Invert matrix\n",
    "Itest = np.dot(A, inv(A))                             # Matrix multiply\n",
    "#print('\\n x vector via inverse')                                       \n",
    "#print(xvec, '\\n')\n",
    "print('A*inverse(A)')\n",
    "print(Itest, '\\n')\n",
    "\n",
    "xvec = solve(A, bvec)                             # Solve via elimination\n",
    "#print('x Matrix via direct') \n",
    "#print(xvec, 'end= ') \n",
    "print('FitParabola Final Results\\n') \n",
    "print('y(x) = a0 + a1 x + a2 x^2')                          # Desired fit\n",
    "print('a0 = %.2f'% xvec[0])                  \n",
    "print('a1 = %.2f'% xvec[1])\n",
    "print('a2 = %.2f'% xvec[2], '\\n')\n",
    "#print(' i   xi     yi    yfit   ')\n",
    "for i in range(0, Nd):\n",
    "    s = xvec[0] + xvec[1]*x[i] + xvec[2]*x[i]*x[i]\n",
    "#    print(\" %d %5.3f  %5.3f  %8.7f \\n\"  %(i, x[i], y[i], s))\n",
    "# red line is the fit, red dots the fits at y[i]\n",
    "t=np.arange(0.3,5.,0.1)\n",
    "curve  = xvec[0] + xvec[1]*t + xvec[2]*t**2\n",
    "plt.plot(t, curve,'r')\n",
    "plt.yscale('linear')\n",
    "plt.show()"
   ]
  },
  {
   "cell_type": "code",
   "execution_count": 29,
   "metadata": {},
   "outputs": [
    {
     "name": "stdout",
     "output_type": "stream",
     "text": [
      "chi2 per degree of freedom is 2.57\n"
     ]
    }
   ],
   "source": [
    "def chi2(x,y,sig,xvec):\n",
    "    c2=0.\n",
    "    for i in range(len(x)):\n",
    "        c2+=(xvec[0]+xvec[1]*x[i]+xvec[2]*x[i]*x[i]-y[i])**2/sig[i]**2\n",
    "    return c2\n",
    "zz=chi2(x,y,sig,xvec)\n",
    "print('chi2 per degree of freedom is %2.2f'% (zz/(Nd-3)))\n"
   ]
  },
  {
   "cell_type": "markdown",
   "metadata": {},
   "source": [
    "So we see the fit is not as good, which is to be expected. The artificially (incorrectly) reduced error bar on the 4th point pulls the fit toward that point (giving it too much weight), and thereby pulling the fit away from the other points, increasing the $\\chi^2$.\n",
    "\n",
    "BTW, if you rerun the MC generation, particularly with fewer numbers, you'll find the first bin (or two) might have zero entries. The above code doesn't handle that well. What should you do in that case?\n",
    "\n",
    "### Nonlinear, general fits\n",
    "\n",
    "If the theoretical function $g(x, a_m)$ is not a linear function of the parameters $a_m$, then the equations that\n",
    "result from minimizing $\\chi^2$ are not linear equations and so\n",
    "cannot be solved by the techniques of *linear* algebra (matrix methods).\n",
    "\n",
    "Typically we use methods that sense the gradient in the neighborhood of the variable which we are minimizing.\n",
    "\n",
    "Best to use canned algorithms for this. There are many. \n",
    "* For example, see [scipy.optimize.curvefit](https://docs.scipy.org/doc/scipy/reference/generated/scipy.optimize.curve_fit.html#scipy.optimize.curve_fit). \n",
    "  * **See the bottom of this notebook for some experimentation**\n",
    "* Many of us have a long-standing relationship with [Minuit](http://hep.fi.infn.it/minuit.pdf), which is a standard in particle physics, and which is [updated and maintained](https://root.cern.ch/guides/minuit2-manual) at CERN. There is a pythonized version, [iminuit](https://github.com/scikit-hep/iminuit).\n",
    "\n",
    "Important:\n",
    "* as with the linear fit (or even more so), we are interested in the uncertainty in the resulting fit values for the parameters. Here, the fit program typically walks the parameter value away from the optimal until $\\chi^2$ has changed by the relevant amount (corresponding to 1 sigma).\n",
    "* this leads to the subject of multi-parameter *covariance*. The covariance matrix is usually an output of the fit method. See the documentation. \n",
    "* for tricky functions, you might want to supply the 1st (gradient) and second (Hessian matrix) derivatives.\n",
    "* you can also bound the parameter values. Why would you want to do that?\n",
    "* you can often give an initial step size, to coax the fitter to explore a reasonable range of parameter space if you are encountering problems.\n",
    "\n",
    "There's more here than we can cover in this survey course. If your project involves this type of fit, that's great, but we should discuss your plans.\n",
    "\n",
    "# The Method of Maximum Likelihood \n",
    "\n",
    "Very often, data contain both a signal we are seeking along with backgrounds. \n",
    "* Some examples?\n",
    "In these cases, it's common to construct a model whose parameters we fit to the data. In this way, we can extract the signal characteristics or set upper limits on the presence of the signal.\n",
    "\n",
    "**Example**: In particle physics, an \"event\" is when a collision reaction results in a set of particles that leave signals in the detector that satisfy pre-defined criteria. Usually, we can only classify events statistically.\n",
    "* Signal and background events don't usually separate completely, and the event sample contains both.\n",
    "\n",
    "------\n",
    "------\n",
    "\n",
    "### Application to Higgs Boson search\n",
    "\n",
    "An example from J. Nielsen.\n",
    "\n",
    "If we have some way to estimate the expected background contribution $b$, then we can use the observed number of data events $n$ to provide an estimate of the number of signal events $s$.\n",
    "\n",
    "The most likely value of $s$ is the one that maximizes the likelihood function based on the Poisson probability:\n",
    "\n",
    "$$L(n,s,b) = \\frac{e^{-s-b} (s+b)^n}{n!}$$\n",
    "\n",
    "It is more common to minimize $-\\ln L$ in this calculation.\n",
    "\n",
    "$$\\ln L(n,s) = -s -b + n\\ln(s+b) - \\ln n!$$\n",
    "$$-\\ln L(n,s) = s +b - n\\ln(s+b) + \\ln n!$$\n",
    "\n",
    "In this case, we can even calculate the derivative analytically:\n",
    "\n",
    "$$\\frac{\\partial \\ln L}{\\partial s} = -1 + \\frac{n}{s+b}$$\n",
    "\n"
   ]
  },
  {
   "cell_type": "code",
   "execution_count": 72,
   "metadata": {},
   "outputs": [
    {
     "data": {
      "image/png": "[encoded data removed]",
      "text/plain": [
       "<Figure size 432x288 with 1 Axes>"
      ]
     },
     "metadata": {
      "needs_background": "light"
     },
     "output_type": "display_data"
    }
   ],
   "source": [
    "from math import factorial\n",
    "def lnL(n, s, b):\n",
    "    return s + b - n*np.log(s+b) + np.log(factorial(n))\n",
    "\n",
    "def dlnLds(n, s, b):\n",
    "    return 1 - n/(s+b)\n",
    "\n",
    "# some tests of the functions\n",
    "#print(lnL(3, 1.0, 1.9))\n",
    "#print(dlnLds(3, 1.0, 1.9))\n",
    "\n",
    "nobs = 20\n",
    "nbkg = 12.5\n",
    "svalues = np.linspace(-1., 20., 100)\n",
    "plt.plot(svalues, lnL(nobs, svalues, nbkg))\n",
    "plt.xlabel('nSignal')\n",
    "plt.ylabel('-ln L')\n",
    "plt.grid(); plt.show()"
   ]
  },
  {
   "cell_type": "markdown",
   "metadata": {},
   "source": [
    "The `nSignal` value that minimizes $-\\ln L$ is the most probable value.\n",
    "It is useful to know that $\\pm 1 \\sigma$ corresponds to 0.5 units of $\\ln L$ above the minimum.\n",
    "How can we find the correct measurement, with uncertainties?\n",
    "Clearly we should look for the point where $\\partial \\ln L/\\partial s = 0$. A root-finding exercise!"
   ]
  },
  {
   "cell_type": "code",
   "execution_count": 73,
   "metadata": {},
   "outputs": [
    {
     "name": "stdout",
     "output_type": "stream",
     "text": [
      "Iteration  0  s =  0.0 , dlnLds(s) =  -0.6000000000000001\n",
      "Iteration  1  s =  4.691249999999595 , dlnLds(s) =  -0.16338253471972486\n",
      "Iteration  2  s =  7.764373593749924 , dlnLds(s) =  0.013046225807417211\n",
      "Root found at s = 7.45588, F = -2.21074e-03, tolerance eps = 1.000000e-02\n"
     ]
    }
   ],
   "source": [
    "s = 0.\n",
    "ds = 0.01\n",
    "eps = 0.01\n",
    "imax = 10\n",
    "\n",
    "# Find the most probable value using Newton-Raphson\n",
    "for it in range(0, imax + 1):\n",
    "    F = dlnLds(nobs, s, nbkg)\n",
    "    if ( abs(F) <= eps ):                         # Check for convergence\n",
    "        print(\"Root found at s = %.5f, F = %.5e, tolerance eps = %e\" % (s, F, eps)) \n",
    "        break\n",
    "    print(\"Iteration \", it, \" s = \", s, \", dlnLds(s) = \", F)\n",
    "    df = (dlnLds(nobs, s + ds, nbkg) - dlnLds(nobs, s, nbkg))/ds  # we're looking for the zero in the derivative fn\n",
    "    ds = - F/df \n",
    "    s += ds                                               # New guess\n",
    "    \n",
    "signal_mpv = s"
   ]
  },
  {
   "cell_type": "code",
   "execution_count": 80,
   "metadata": {},
   "outputs": [
    {
     "name": "stdout",
     "output_type": "stream",
     "text": [
      "minL value is 2.4210197197660364\n",
      "iteration  0: x = 3.227941 and f(x) =  0.033761\n",
      "iteration  1: x = 5.341912 and f(x) = -0.374497\n",
      "iteration  2: x = 4.284927 and f(x) = -0.210102\n",
      "iteration  3: x = 3.756434 and f(x) = -0.098745\n",
      "iteration  4: x = 3.492188 and f(x) = -0.035222\n",
      "iteration  5: x = 3.360065 and f(x) = -0.001424\n",
      "iteration  6: x = 3.294003 and f(x) =  0.015994\n",
      "iteration  7: x = 3.327034 and f(x) =  0.007241\n",
      "iteration  8: x = 3.343549 and f(x) =  0.002897\n",
      "iteration  9: x = 3.351807 and f(x) =  0.000734\n",
      "root found with precision eps =  0.01\n",
      "iteration  0: x = 23.727941 and f(x) =  3.845924\n",
      "iteration  1: x = 15.591912 and f(x) =  0.796875\n",
      "iteration  2: x = 11.523897 and f(x) = -0.142487\n",
      "iteration  3: x = 13.557905 and f(x) =  0.266078\n",
      "iteration  4: x = 12.540901 and f(x) =  0.045287\n",
      "iteration  5: x = 12.032399 and f(x) = -0.052897\n",
      "iteration  6: x = 12.286650 and f(x) = -0.004857\n",
      "iteration  7: x = 12.413776 and f(x) =  0.019955\n",
      "iteration  8: x = 12.350213 and f(x) =  0.007483\n",
      "iteration  9: x = 12.318431 and f(x) =  0.001297\n",
      "iteration 10: x = 12.302541 and f(x) = -0.001784\n",
      "iteration 11: x = 12.310486 and f(x) = -0.000245\n",
      "root found with precision eps =  0.01\n",
      "\n",
      " The fitted value for the Higgs signal is 7.46 + 4.10 - 4.85 events \n"
     ]
    }
   ],
   "source": [
    "# Now find the places where ln L changes by 0.5 units.\n",
    "minL = lnL(nobs, signal_mpv, nbkg)\n",
    "print(\"minL value is\", minL)\n",
    "\n",
    "def f(s):\n",
    "    return lnL(nobs, s, nbkg) - minL - 0.5\n",
    "\n",
    "def bisection(xminus, xplus, Nmax, eps):       # x-,x+ Nmax error\n",
    "    for it in range(0,Nmax):\n",
    "        x=(xminus+xplus)/2                     # Mid point\n",
    "        print(\"iteration %2d: x = %.6f and f(x) = %9.6f\" % (it, x, f(x)))\n",
    "        if (f(xplus)*f(x)>0):                      # Root in other half\n",
    "            xplus=x                            # Change x+ to x\n",
    "        else:\n",
    "            xminus=x                           # Change x- to x\n",
    "        if(xplus-xminus<eps):                           # Converged?\n",
    "            print(\"root found with precision eps = \",eps)\n",
    "            break\n",
    "        if it==Nmax-1:\n",
    "             print(\"root not found after Nmax iterations \")   \n",
    "    return x\n",
    "\n",
    "errl=signal_mpv-bisection(-1., signal_mpv, 1000, 0.01)\n",
    "erru=bisection(signal_mpv, 40., 1000, 0.01)-signal_mpv\n",
    "\n",
    "print('\\n The fitted value for the Higgs signal is %.2f + %.2f - %.2f events '%(signal_mpv,errl,erru))"
   ]
  },
  {
   "cell_type": "markdown",
   "metadata": {},
   "source": [
    "------\n",
    "------\n",
    "\n",
    "\n",
    "\n",
    "Notice the method naturally gives asymmetric errors\n",
    "* look at the likelihood function above.\n"
   ]
  },
  {
   "cell_type": "markdown",
   "metadata": {},
   "source": [
    "Multi-dimensional likelihood fitting is common. Computationally, it is sometimes advantageous to \"bin\" the data. See, for example, the [Fermi LAT science tools](https://fermi.gsfc.nasa.gov/ssc/data/analysis/scitools/help/gtlike.txt) description."
   ]
  },
  {
   "cell_type": "markdown",
   "metadata": {},
   "source": [
    "-------\n",
    "--------\n",
    "-------\n",
    "\n",
    "Let's circle back to our linear fit of the generated MC data. What fit parameters did we expect to extract? \n",
    "\n",
    "Remember, the value in each bin is the integral of the probability density, $Ax^2$, over the bin. In other words, it should be $$NA\\left (\\frac{(x+d)^3}{3}-\\frac{x^3}{3}\\right )$$ where $x$ is the value of the lower edge of the bin, $d$ is the bin width, which in this case is 1, $A=\\frac{3}{5^3}$ and $N=500$ was the number of generated events. However, we set the fit to put the $x$ points at the center of the bin, so, the expected function should be:"
   ]
  },
  {
   "cell_type": "code",
   "execution_count": 4,
   "metadata": {},
   "outputs": [
    {
     "data": {
      "image/png": "[encoded data removed]",
      "text/latex": [
       "$$12.0 x^{2} + 1.0$$"
      ],
      "text/plain": [
       "      2      \n",
       "12.0⋅x  + 1.0"
      ]
     },
     "execution_count": 4,
     "metadata": {},
     "output_type": "execute_result"
    }
   ],
   "source": [
    "from sympy import *\n",
    "init_printing(use_unicode=True)\n",
    "x=symbols('x') # tell sympy about the symbols we want to use\n",
    "simplify((500/(5**3)*((x+1/2)**3-(x-1/2)**3)))"
   ]
  },
  {
   "cell_type": "markdown",
   "metadata": {},
   "source": [
    "So no linear term. Plot this function, and we'll see it's very sensible. "
   ]
  },
  {
   "cell_type": "code",
   "execution_count": 64,
   "metadata": {},
   "outputs": [
    {
     "data": {
      "image/png": "[encoded data removed]",
      "text/plain": [
       "<Figure size 432x288 with 1 Axes>"
      ]
     },
     "metadata": {
      "needs_background": "light"
     },
     "output_type": "display_data"
    }
   ],
   "source": [
    "numb = np.linspace(0., 5., 100)\n",
    "plt.plot(numb, 12.*numb**2+1.)\n",
    "plt.scatter(x, y)                                    # Plot data in blue\n",
    "sig = np.sqrt(n*1.)      # error bar lenghts\n",
    "plt.errorbar(x,y,yerr=sig, fmt=\"none\")                                    # Plot error bars\n",
    "plt.xlabel('numb')\n",
    "plt.ylabel('func')\n",
    "plt.grid(); plt.show()"
   ]
  },
  {
   "cell_type": "code",
   "execution_count": 69,
   "metadata": {},
   "outputs": [],
   "source": [
    "# now use scipy's curvefit, which will also tell us the errors in the fit and the covariance.\n",
    "import scipy.optimize as sop\n",
    "def myfun(xvs,a1,a2,a3):\n",
    "    return a1+a2*xvs+a3*xvs**2\n",
    "\n",
    "x = binsa[:-1]+0.5  # Given x values\n",
    "y = n*1.      # Given y values\n",
    "sig = np.sqrt(n*1.)      # error bar lenghts\n",
    "\n",
    "popt,pcov=sop.curve_fit(myfun,x,y, sigma=sig)\n"
   ]
  },
  {
   "cell_type": "code",
   "execution_count": 70,
   "metadata": {},
   "outputs": [
    {
     "data": {
      "text/plain": [
       "array([-5.32347317,  9.52368428,  9.83727755])"
      ]
     },
     "execution_count": 70,
     "metadata": {},
     "output_type": "execute_result"
    }
   ],
   "source": [
    "# popt gives the optimized parameters (recall a1+x2*x+a3*x**2)\n",
    "popt"
   ]
  },
  {
   "cell_type": "markdown",
   "metadata": {},
   "source": [
    "This is extremely close to the parameter values we obtained from our own least-squares fitter (before we tampered with the errors). Good. What about the errors, indicated by the covariance matrix?"
   ]
  },
  {
   "cell_type": "code",
   "execution_count": 71,
   "metadata": {},
   "outputs": [
    {
     "data": {
      "text/plain": [
       "array([[ 15.0341392 , -27.64025381,   6.43842341],\n",
       "       [-27.64025381,  57.6529113 , -13.91434745],\n",
       "       [  6.43842341, -13.91434745,   3.64873151]])"
      ]
     },
     "execution_count": 71,
     "metadata": {},
     "output_type": "execute_result"
    }
   ],
   "source": [
    "pcov"
   ]
  },
  {
   "cell_type": "code",
   "execution_count": 72,
   "metadata": {},
   "outputs": [
    {
     "name": "stdout",
     "output_type": "stream",
     "text": [
      "for parameter 0 the value is -5.32 +/- 3.88\n",
      "for parameter 1 the value is 9.52 +/- 7.59\n",
      "for parameter 2 the value is 9.84 +/- 1.91\n"
     ]
    }
   ],
   "source": [
    "# the errors for the 3 parameters separately are given as the sqrt of each diagonal element\n",
    "# also, think about the meaning of the off-diagonal elements, including the signs. Why is the matrix symmetric?\n",
    "\n",
    "for i in range(len(popt)):\n",
    "    print(\"for parameter %d the value is %.2f +/- %.2f\" %(i, popt[i],np.sqrt(pcov[i,i])))"
   ]
  },
  {
   "cell_type": "code",
   "execution_count": 73,
   "metadata": {},
   "outputs": [
    {
     "data": {
      "image/png": "[encoded data removed]",
      "text/plain": [
       "<Figure size 432x288 with 1 Axes>"
      ]
     },
     "metadata": {
      "needs_background": "light"
     },
     "output_type": "display_data"
    }
   ],
   "source": [
    "numb = np.linspace(0., 5., 100)\n",
    "plt.plot(numb, myfun(numb,popt[0],popt[1],popt[2]), 'r', label='fit')\n",
    "plt.plot(numb, 12.*numb**2+1., 'b', label=\"analytic expectation\")\n",
    "y = n*1.      # Given y values\n",
    "plt.scatter(x, y)                                    # Plot data in blue\n",
    "sig = np.sqrt(n*1.)      # error bar lenghts\n",
    "plt.errorbar(x,y,yerr=sig, fmt=\"none\")                                    # Plot error bars\n",
    "plt.xlabel('numb')\n",
    "plt.ylabel('functions')\n",
    "plt.legend()\n",
    "plt.grid(); plt.show()"
   ]
  },
  {
   "cell_type": "code",
   "execution_count": 74,
   "metadata": {},
   "outputs": [
    {
     "name": "stdout",
     "output_type": "stream",
     "text": [
      "for parameter 0 the value is -0.76 +/- 5.16\n",
      "for parameter 1 the value is 0.00 +/- 10.09\n",
      "for parameter 2 the value is 12.14 +/- 2.54\n"
     ]
    }
   ],
   "source": [
    "# now let's redo the fit, but force the linear term coefficient to zero (to see if we get the right value of the other parameters)\n",
    "popt,pcov=sop.curve_fit(myfun,x,y, sigma=sig,bounds=([-20.,0.,-20.], [30., 1.e-12, 30.]))\n",
    "for i in range(len(popt)):\n",
    "    print(\"for parameter %d the value is %.2f +/- %.2f\" %(i, popt[i],np.sqrt(pcov[i,i])))\n"
   ]
  },
  {
   "cell_type": "markdown",
   "metadata": {},
   "source": [
    "Notice what we did: we forced the fitter to constrain the value of a2 to be within 1.e-12 of zero using the bounds argument.\n",
    "\n",
    "The result is, given the errors, very similar to the analytic expectation of $12x^2+1$. Good...\n",
    "\n",
    "Plotting: "
   ]
  },
  {
   "cell_type": "code",
   "execution_count": 75,
   "metadata": {},
   "outputs": [
    {
     "data": {
      "image/png": "[encoded data removed]",
      "text/plain": [
       "<Figure size 432x288 with 1 Axes>"
      ]
     },
     "metadata": {
      "needs_background": "light"
     },
     "output_type": "display_data"
    }
   ],
   "source": [
    "numb = np.linspace(0., 5., 100)\n",
    "plt.plot(numb, myfun(numb,popt[0],popt[1],popt[2]), 'r', label='fit')\n",
    "plt.plot(numb, 12.*numb**2+1., 'b', label=\"analytic expectation\")\n",
    "y = n*1.      # Given y values\n",
    "plt.scatter(x, y)                                    # Plot data in blue\n",
    "sig = np.sqrt(n*1.)      # error bar lenghts\n",
    "plt.errorbar(x,y,yerr=sig, fmt=\"none\")                                    # Plot error bars\n",
    "plt.xlabel('numb')\n",
    "plt.ylabel('functions')\n",
    "plt.legend()\n",
    "plt.grid(); plt.show()"
   ]
  },
  {
   "cell_type": "markdown",
   "metadata": {},
   "source": [
    "So, we really should have made this a two-parameter fit from the beginning -- there was no theoretical basis for the linear term, and it turns out we did not need it. Adding it just distorted the extracted values of the other two parameters.\n",
    "\n",
    "Discussion:\n",
    "* What could we do to reduce the size of the error bars on the fitted parameters?"
   ]
  },
  {
   "cell_type": "code",
   "execution_count": null,
   "metadata": {},
   "outputs": [],
   "source": []
  }
 ],
 "metadata": {
  "kernelspec": {
   "display_name": "Python [default]",
   "language": "python",
   "name": "python3"
  },
  "language_info": {
   "codemirror_mode": {
    "name": "ipython",
    "version": 3
   },
   "file_extension": ".py",
   "mimetype": "text/x-python",
   "name": "python",
   "nbconvert_exporter": "python",
   "pygments_lexer": "ipython3",
   "version": "3.5.6"
  }
 },
 "nbformat": 4,
 "nbformat_minor": 2
}
