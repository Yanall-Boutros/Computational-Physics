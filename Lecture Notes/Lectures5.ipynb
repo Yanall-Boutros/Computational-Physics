{
 "cells": [
  {
   "cell_type": "code",
   "execution_count": 1,
   "metadata": {},
   "outputs": [],
   "source": [
    "import numpy as np\n",
    "import matplotlib.pyplot as plt\n",
    "% matplotlib inline"
   ]
  },
  {
   "cell_type": "markdown",
   "metadata": {},
   "source": [
    "# Searching and Fitting\n",
    "\n",
    "   * finding roots; transcendental equation solutions\n",
    "   * fitting polynomials and splines\n",
    "   * fitting by searching for minimization\n",
    "\n",
    "## Solving for Roots of Equations\n",
    "\n",
    "Problem: find values of $x$ for which $f(x)=0$.\n",
    "\n",
    "Solution: different methods. Here we'll look at two:\n",
    "* bisection method\n",
    "* Newton-Raphson method (local slope)\n",
    "\n",
    "which work by trial and error:\n",
    "\n",
    "1. Choose a first-guess trial value of $x$ or range of $x$ values.\n",
    "2. Compute $f(x)$. The result is generally non-zero (unless the first guess was perfect). This is the error.\n",
    "3. Use information from the error to make a new guess and go back to step 2.\n",
    "   * as we're looking for a zero, values of $x$ that are high or low return errors of opposite sign.\n",
    "4. Iterate until you reach an exit criterion (typically either a maximum number of iterations or convergence to some precision).\n",
    "\n",
    "NOTE: you can't use these methods blindly. See textbook discussion in section 7.2 and Problem set 4.\n",
    "\n",
    "### Bisection method\n",
    "\n",
    "First-guess trial: start with an estimate of the interval of $x$ values in which the root resides: at one end of the interval $f(x_+)$ is positive and at the other end $f(x_-)$ is negative.\n",
    "\n",
    "Next, split the interval using the midpoint value of $x$ (hence the name of the method) and test to see if the sign flips in the upper half or the lower half. Make the bisecting value the new endpoint of that half. Iterate. In this way, the algorithm closes in on the root.\n",
    "\n",
    "This process continues until the the remaining interval is less than a\n",
    "predefined size (precision) or until a predefined (large) number of bisecting iterations occurs.\n",
    "\n",
    "In pseudocode:\n",
    "\n",
    "       x = ( xPlus + xMinus ) / 2\n",
    "       if ( f(x) * f(xPlus) > 0 ) xPlus = x\n",
    "          else xMinus = x\n",
    "\n",
    "\n",
    "\n",
    "<img src=\"Figures/Figure_7.1.png\" width=\"50%\">\n",
    "\n",
    "Example: find the root of $f(x) = 2\\cos(x) - x$:\n"
   ]
  },
  {
   "cell_type": "code",
   "execution_count": 2,
   "metadata": {},
   "outputs": [
    {
     "data": {
      "image/png": "[encoded data removed]",
      "text/plain": [
       "<Figure size 432x288 with 1 Axes>"
      ]
     },
     "metadata": {
      "needs_background": "light"
     },
     "output_type": "display_data"
    }
   ],
   "source": [
    "x=np.arange(0.,7.,.05)\n",
    "fn=2.*np.cos(x)\n",
    "plt.rcParams[\"figure.figsize\"] = [6,4]\n",
    "plt.plot(x, fn)\n",
    "plt.plot(x, x)\n",
    "plt.xlabel('x')\n",
    "plt.ylabel('functions')\n",
    "plt.title('check graphically')\n",
    "plt.show()"
   ]
  },
  {
   "cell_type": "code",
   "execution_count": 3,
   "metadata": {},
   "outputs": [
    {
     "name": "stdout",
     "output_type": "stream",
     "text": [
      "iteration  0: x = 3.500000 and f(x) = -5.372913\n",
      "iteration  1: x = 1.750000 and f(x) = -2.106492\n",
      "iteration  2: x = 0.875000 and f(x) =  0.406994\n",
      "iteration  3: x = 1.312500 and f(x) = -0.801632\n",
      "iteration  4: x = 1.093750 and f(x) = -0.175435\n",
      "iteration  5: x = 0.984375 and f(x) =  0.122393\n",
      "iteration  6: x = 1.039062 and f(x) = -0.025005\n",
      "iteration  7: x = 1.011719 and f(x) =  0.049090\n",
      "iteration  8: x = 1.025391 and f(x) =  0.012139\n",
      "iteration  9: x = 1.032227 and f(x) = -0.006409\n",
      "iteration 10: x = 1.028809 and f(x) =  0.002871\n",
      "iteration 11: x = 1.030518 and f(x) = -0.001767\n",
      "iteration 12: x = 1.029663 and f(x) =  0.000552\n",
      "iteration 13: x = 1.030090 and f(x) = -0.000608\n",
      "iteration 14: x = 1.029877 and f(x) = -0.000028\n",
      "iteration 15: x = 1.029770 and f(x) =  0.000262\n",
      "iteration 16: x = 1.029823 and f(x) =  0.000117\n",
      "iteration 17: x = 1.029850 and f(x) =  0.000045\n",
      "iteration 18: x = 1.029863 and f(x) =  0.000009\n",
      "iteration 19: x = 1.029870 and f(x) = -0.000010\n",
      "iteration 20: x = 1.029867 and f(x) = -0.000000\n",
      "iteration 21: x = 1.029865 and f(x) =  0.000004\n",
      "iteration 22: x = 1.029866 and f(x) =  0.000002\n",
      "root found with precision =  1e-06\n",
      "Root = 1.0298659\n"
     ]
    }
   ],
   "source": [
    "# Root finding with bisection method\n",
    "def f(x):                                      \n",
    "    return 2*np.cos(x)-x\n",
    "\n",
    "def bisection(xminus, xplus, Nmax, eps):       # x-,x+ Nmax error\n",
    "    for it in range(0,Nmax):\n",
    "        x=(xminus+xplus)/2                     # Mid point\n",
    "        print(\"iteration %2d: x = %.6f and f(x) = %9.6f\" % (it, x, f(x)))\n",
    "        if (f(xplus)*f(x))>0:                      # Root in other half\n",
    "            xplus=x                            # Change x+ to x\n",
    "        else:\n",
    "            xminus=x                           # Change x- to x\n",
    "        if(xplus-xminus<eps):                           # Converged?\n",
    "            print(\"root found with precision = \",eps)\n",
    "            break\n",
    "        if it==Nmax-1:\n",
    "             print(\"root not found after Nmax iterations \")   \n",
    "    return x  \n",
    "\n",
    "eps=1e-6\n",
    "a=0.0\n",
    "b=7.0\n",
    "Nmax=100\n",
    "root=bisection(a, b, Nmax, eps)\n",
    "print(\"Root = %.7f\"%root)"
   ]
  },
  {
   "cell_type": "markdown",
   "metadata": {},
   "source": [
    "There are ways this can get into trouble, particularly if the function runs off toward infinity in the interval (e.g., tan(x)). It is good to plot the function whenever possible. See problem set 4.\n",
    "\n",
    "---------\n",
    "---------\n",
    "### Newton-Raphson Method\n",
    "\n",
    "Now add local slope information to guide the trials.\n",
    "\n",
    "Draw a line $mx+b$ tangent to the curve and use the intercept of that line with the $x$ axis ($x = −b/m$) as the next guess for the root.\n",
    "\n",
    "The process continues until some set level of\n",
    "precision, or a maximum number of iterations, is reached. \n",
    "\n",
    "When $f(x)$ is nearly linear, then the convergence should be faster than for the bisection algorithm.\n",
    "\n",
    "In each iteration, start with the old guess $x_0$ and express a new guess $x$ as a correction $\\Delta x$ to the old guess:\n",
    "\n",
    "$$\n",
    "x  =  x_0 + \\Delta x = \\mbox{new guess}\n",
    "$$\n",
    "\n",
    "Expand the known function $f(x)$ in a Taylor series around\n",
    "$x_0$ and keep only the linear terms:\n",
    "\n",
    "$$f(x = x_0 + \\Delta x) \\simeq f(x_0) + \\left. \\frac{d f}\n",
    "{dx}\\right|_{x_0} \\Delta x$$\n",
    "\n",
    "Determine the correction $\\Delta x$ by calculating the point at which the\n",
    "linear approximation to $f(x)$ crosses the $x$ axis:\n",
    "\n",
    "$$\\begin{align}\n",
    "  f(x_0) + \\left. \\frac{d f} {dx}\\right|_{x_0} \\Delta x  & = 0 ,\\\\\n",
    " \\Rightarrow  \\quad   \\Delta x & = - \\frac{f(x_0)} {  \\left. {(df /\n",
    "    dx)}\\right|_{x_0}}\n",
    "\\end{align}$$\n",
    "\n",
    "Repeat. \n",
    "\n",
    "<img src=\"Figures/Figure_7.2.png\" width=\"50%\">\n",
    "\n",
    "The disadvantages of this method are\n",
    "1. It requires you to calculate the derivative of the function) analytically or numerically, in addition to the function itself.\n",
    "2. It could miss the zero of a rapidly-varying function, if the straight-line extrapolation to the $x$-axis jumps over the zero to another point with the same-sign derivative. Think about a sinusoid.\n",
    "\n",
    "To mitigate disadvantage \\#1, we can calculate the forward difference derivative\n",
    "$$\\frac{d f} {d x} \\simeq \\frac{f (x + \\delta x) - f (x)}{\\delta x}$$\n",
    "so that we can re-use the evaluation $f(x)$ that we already performed.\n",
    "\n",
    "Try $f(x) = 2\\cos(x) -x$ again:"
   ]
  },
  {
   "cell_type": "code",
   "execution_count": 4,
   "metadata": {},
   "outputs": [
    {
     "name": "stdout",
     "output_type": "stream",
     "text": [
      "Iteration  0  x =  4.0  f(x) =  -5.307287241727224\n",
      "Iteration  1  x =  11.740749215681033  f(x) =  -10.384548440431919\n",
      "Iteration  2  x =  0.9987770197629118  f(x) =  0.08388498810969591\n",
      "Iteration  3  x =  1.1148991974395954  f(x) =  -0.23436321106717994\n",
      "Iteration  4  x =  1.0324572710157693  f(x) =  -0.007035917319504259\n",
      "Iteration  5  x =  1.0298249880685695  f(x) =  0.00011276120515502086\n",
      "\n",
      " Root found at x = 1.0298666, f(x) = -5.73114e-08, precision eps = 1.000000e-06\n"
     ]
    }
   ],
   "source": [
    "\"\"\" From \"COMPUTATIONAL PHYSICS\", 3rd Ed \n",
    "    by RH Landau, MJ Paez, and CC Bordeianu\n",
    "    Copyright Wiley-VCH Verlag GmbH & Co. KGaA, Berlin;  Copyright R Landau,\n",
    "    Oregon State Unv, MJ Paez, Univ Antioquia, C Bordeianu, Univ Bucharest, 2015.\n",
    "    Support by National Science Foundation\"\"\"\n",
    "\n",
    "# NewtonCD.py    Newton-Raphson Search with forward difference\n",
    "import numpy as np\n",
    "\n",
    "x = 4.\n",
    "dx = 3.e-1\n",
    "eps = 1.e-6\n",
    "imax = 100                                        # Max no of iterations\n",
    "\n",
    "def f(x):                                                     # Function\n",
    "    return 2*np.cos(x) - x\n",
    "\n",
    "for it in range(0, imax + 1):\n",
    "    F = f(x)\n",
    "    if ( abs(F) <= eps ):                         # Check for convergence\n",
    "        print(\"\\n Root found at x = %.7f, f(x) = %.5e, precision eps = %e\" % (x, F, eps)) \n",
    "        break\n",
    "    print(\"Iteration \", it, \" x = \", x, \" f(x) = \", F)\n",
    "    df = (f(x + dx) - f(x))/dx                            # Forward difference\n",
    "    dx = - F/df \n",
    "    x += dx                                               # New guess"
   ]
  },
  {
   "cell_type": "markdown",
   "metadata": {},
   "source": [
    "**Pretty much the same result as the bisection method, but after iteration 5 instead of iteration 22.** \n",
    "\n",
    "---------------------\n",
    "------------------------\n",
    "\n",
    "Now, embark on fitting functions to data points. \n",
    "\n",
    "-------\n",
    "### First, an important discussion: *WHY* do we want to fit a function to data?? \n",
    "* this is a good question, as it informs our choices. \n",
    "* we might want to fit data to determine a physical parameter. In that case, we must have some knowledge of the function and its applicability to the particular case. \n",
    "  * For example, fitting a Gaussian to data that are not Gaussian is often not sensible.\n",
    "* sometimes we need a continuous function for some purpose. This is mainly a matter of interpolation.\n",
    "  * For example, we might want to simulate the statistics of the result many times to understand the probability of obtaining a particular result. We need a function for the random number generator. \n",
    "  * Or we might need the value between data points.\n",
    "\n",
    "Bottom line: fitting is an essential tool. However, successfully fitting data with a function doesn't necessarily mean you have added any new information, and you may have *lost* information by imposing your incorrect prejudice of what the data *should* be.\n",
    "\n",
    "-------\n",
    "\n",
    "### Polynomial fits, Lagrange method\n",
    "\n",
    "With $N$ data points, we can find the parameters for a $(N-1)$ degree polynomial. \n",
    "* For example, with $N=2$ points, we can find a line that goes through both points.\n",
    "\n",
    "Unless there is some underlying theoretical reason why the data should follow a polynomial, this is most likely a case of just needing a continuous function. \n",
    "\n",
    "No searches are required, just some linear algebra.\n",
    "\n",
    "We want the value of $f(x)$ at some point between the given $x$ values, regardless of the error on each value (errors will matter soon, when we do more sophisticated fits). \n",
    "\n",
    "Given $N$ data points, we try approximating $g(x)$ as a $(N-1)$-degree polynomial over the entire interval.\n",
    "\n",
    "Write the expansions of a function at two points $x_1$ and $x_2$. We already know the values $f(x_1)$ and $f(x_2)$, and we want to find $f(x)$ and $f'(x)$ for other $x$. We have\n",
    "\n",
    "$$\\begin{align}\n",
    "f(x_1) &= f(x) + (x_1 - x) f'(x) + \\cdots \\\\\n",
    "f(x_2) &= f(x) + (x_2 - x) f'(x) + \\cdots\n",
    "\\end{align}$$\n",
    "\n",
    "Approximate the true function with a polynomial $p(x)$, which we can define so it satisfies the equality exactly:\n",
    "$$\\begin{align}\n",
    "f(x_1) &= p(x) + (x_1 - x) p'(x) \\\\\n",
    "f(x_2) &= p(x) + (x_2 - x) p'(x)\n",
    "\\end{align}$$\n",
    "\n",
    "Two equations in two unknowns ($p$ and $p'$) so\n",
    "\n",
    "$$\n",
    "p(x) = \\frac{x-x_2}{x_1-x_2} f(x_1) + \\frac{x_1-x}{x_1-x_2} f(x_2)\n",
    "$$\n",
    "\n",
    "This is the equation for **a line through the points $(x_1, f(x_1))$ and $(x_2, f(x_2))$**.\n",
    "\n",
    "----------\n",
    "\n",
    "To extend to higher orders, add more terms in the series expansion and more data points to find the unknowns. \n",
    "\n",
    "The next-order set of equations:\n",
    "\n",
    "$$\\begin{align}\n",
    "f(x_1) &= p(x) + (x_1 - x) p'(x) + \\frac{(x_1 -x )^2}{2} p''(x) \\cdots \\\\\n",
    "f(x_2) &= p(x) + (x_2 - x) p'(x) + \\frac{(x_2 -x )^2}{2} p''(x) \\cdots \\\\\n",
    "f(x_3) &= p(x) + (x_3 - x) p'(x) + \\frac{(x_3 -x )^2}{2} p''(x) \\cdots\n",
    "\\end{align}$$\n",
    "\n",
    "yield the solution\n",
    "\n",
    "$$\n",
    "p(x) = \\frac{(x-x_2)(x-x_3)}{(x_1-x_2)(x_1-x_3)}\\ f(x_1) + \\frac{(x-x_1)(x-x_3)}{(x_2-x_1)(x_2-x_3)}\\ f(x_2) + \\frac{(x-x_1)(x-x_2)}{(x_3-x_1)(x_3-x_2)}\\ f(x_3)\n",
    "$$\n",
    "\n",
    "This is the quadratic polynomial that passes through all three points.\n",
    "\n",
    "Generalizing:\n",
    "* Call the independent variable $x$ and its tabulated values $x_i (i= 1,2, \\ldots)$\n",
    "* The dependent variable is the function $g(x)$, with tabulated values $g_i = g(x_i)$. \n",
    "\n",
    "then the formula for the Lagrange polynomial of order $N-1$ is:\n",
    "\n",
    "$$\\begin{align}\n",
    "g(x) &\\simeq  g_{1}\\lambda_{1}(x) + g_{2}\\lambda_{2}(x) + \\cdots +\n",
    "g_{n}\\lambda_{n}(x),\\\\\n",
    "\\lambda_{i}(x) & =  \\prod_{j (\\neq i)=1}^{n}\n",
    "\\frac{x-x_{j}}{x_{i}-x_{j}} = \\frac{x-x_1} { x_i-x_1} \\frac{x-x_2}\n",
    "{ x_i-x_2} \\cdots \\frac{x-x_n} { x_i-x_n}\n",
    "\\end{align}$$\n",
    "\n",
    "The coefficients $g_i$ are the tabulated (known) values $g(x_i)$ for specific points $x_i$.\n",
    "\n",
    "**Example**\n",
    "\n",
    "Giuven the points and function values\n",
    "\n",
    "$$x_{1-4}  = (0 ,1 ,2, 4) \\qquad  g_{1-4}  =(-12,-12,-24,-60)$$\n",
    "\n",
    "the Lagrange formula yields a third-order polynomial that reproduces each of the tabulated values:\n",
    "\n",
    "$$\\begin{align}\n",
    "g(x) &=  \\frac{(x-1)(x-2)(x-4)}{(0-1)(0-2)(0-4)}(-12) +\n",
    "\\frac{x(x-2)(x-4)}{(1-0)(1-2)(1-4)}(-12)  \\\\\n",
    "&+ \\frac{x(x-1)(x-4)}{(2-0)(2-1)(2-4)}(-24) +\n",
    "\\frac{x(x-1)(x-2)}{(4-0)(4-1)(4-2)}(-60),  \\\\ \\\\\n",
    "\\Rightarrow \\quad g(x) &=  x^{3} - 9x^{2} + 8x -12\n",
    "\\end{align}$$\n",
    "\n",
    "------\n",
    "------\n",
    "Remember: the polynomial is only guaranteed to pass through the given points; its behavior everywhere else may be silly, as shown in the following example.\n",
    "\n",
    "----- \n",
    "-----\n",
    "\n",
    "**Example**\n",
    "Your book's example: experimental values for a scattering cross section, each with error $\\pm\\sigma_i$, as a function of energy given in this table:\n",
    "\n",
    "|$i=$ | 1|2|3|4|5|6|7|8|9|\n",
    "|- - -|- - -|- - -|- - -|- - -|- - -|- - -|- - -|- - -|- - -|\n",
    "|$E_i$ (MeV) |0|25|50|75|100|125|150|175|200|\n",
    "| $g(E_i)$(mb)|10.6|16.0|45.0|83.5|52.8|19.9|10.8|8.25|4.7|\n",
    "| Error (mb)|9.34|17.9 |41.5 |85.5|51.5|21.5|10.8 |6.29 |4.14|\n",
    "\n",
    "\n",
    "The 8th-order polynomial function fit to the 9 points is shown (\"Lagrange\") in the figure, along with other interpolation methods, which we will now discuss.\n",
    "\n",
    "<img src=\"Figures/Figure_7.5.png\" width=\"60%\">\n",
    "\n",
    "\n"
   ]
  },
  {
   "cell_type": "markdown",
   "metadata": {},
   "source": [
    "###  \"Natural\" Cubic Spline Local Interpolation\n",
    "\n",
    "This is sophisticated version of \"connect the dots\": fit cubic polynomials to the function separately in each local\n",
    "interval, with the constraint that the first and second\n",
    "derivatives of the polynomials be continuous from one interval to the\n",
    "next. \"*This continuity of slope and curvature is what makes the spline fit particularly eye-pleasing.*\"\n",
    "\n",
    "We'll go through this quickly, as the canned algorithms (see below) do a good job and there isn't much physics here, so you can safely skip the details.\n",
    "\n",
    "The form of the cubic spline is\n",
    "\n",
    "$$\n",
    "g_{i}(x) =  g_{i} +g_i^\\prime (x-x_{i})\n",
    "+\\frac{1}{2} g_{i}^{\\prime\\prime}(x-x_{i})^{2}\n",
    "+\\frac{1}{6}g_{i}^{\\prime\\prime\\prime}(x-x_{i})^{3}\n",
    "$$ \n",
    "\n",
    "and matching of the first and second derivatives at each interval’s\n",
    "boundaries provides the equations\n",
    "\n",
    "$$\n",
    "g_{i-1}^\\prime (x_{i}) = g_i^\\prime(x_{i}), \\quad g_{i-1}^{\\prime\\prime}(x_{i}) =\n",
    "g_{i}^{\\prime\\prime}(x_{i})\n",
    "$$\n",
    "\n",
    "* The additional equations needed are obtained by matching the third derivatives at adjacent nodes that connect intervals. Values for the third derivatives are found by approximating them in terms of the second derivatives:\n",
    "\n",
    "$$\n",
    "g_{i}''' \\simeq \\frac{g_{i+1}'' - g_{i}''}{x_{i+1} - x_{i}}\n",
    "$$\n",
    "\n",
    "* The remaining constraints come from boundary conditions at the edge of the interval.\n",
    "    * For the \"natural\" spline, the boundary conditions are chosen to be:\n",
    "\n",
    "$$g''(a) = g''(b) = 0$$\n",
    "\n",
    "(They were already required to be equal; in this case they are required to be 0.)\n",
    "\n",
    "There are other choices possible. See your textbook section 7.5.2. There is also a code listing you can adapt, if you like."
   ]
  },
  {
   "cell_type": "markdown",
   "metadata": {},
   "source": [
    "------\n",
    "------\n",
    "------\n",
    "------\n",
    "### Canned Implementations\n",
    "\n",
    "\n",
    "#### Root-Finding Routines\n",
    "\n",
    "Newton-Raphson method: `scipy.optimize.newton`.  See \n",
    "[scipy.optimize reference guide](https://docs.scipy.org/doc/scipy/reference/generated/scipy.optimize.newton.html)\n",
    "This implementation requires a preliminary guess that is not too far away from the actual zero."
   ]
  },
  {
   "cell_type": "code",
   "execution_count": 5,
   "metadata": {},
   "outputs": [
    {
     "name": "stdout",
     "output_type": "stream",
     "text": [
      "1.0298665293222307\n"
     ]
    }
   ],
   "source": [
    "from scipy.optimize import newton\n",
    "def f(z):                                      \n",
    "    return 2*np.cos(z)-z\n",
    "\n",
    "preliminary_guess = 2.\n",
    "root = newton(f, preliminary_guess)\n",
    "print(root)"
   ]
  },
  {
   "cell_type": "markdown",
   "metadata": {},
   "source": [
    "But be careful!  These root-finding methods can get confused.  Plotting the function, if you can, is always a good check.  Other root finders in `scipy.optimize` are most robust and complicated. Let's try them on Problem Set 4 (finite square well bound states...of course, you are writing your own for that problem):"
   ]
  },
  {
   "cell_type": "code",
   "execution_count": 6,
   "metadata": {},
   "outputs": [
    {
     "name": "stdout",
     "output_type": "stream",
     "text": [
      "1.571053406427576\n",
      "4.712960219282728\n",
      "7.8548670321378795\n"
     ]
    },
    {
     "name": "stderr",
     "output_type": "stream",
     "text": [
      "/Users/ritz/anaconda/lib/python3.5/site-packages/ipykernel/__main__.py:3: RuntimeWarning: invalid value encountered in sqrt\n",
      "  app.launch_new_instance()\n"
     ]
    },
    {
     "ename": "RuntimeError",
     "evalue": "Failed to converge after 50 iterations, value is nan",
     "output_type": "error",
     "traceback": [
      "\u001b[0;31m---------------------------------------------------------------------------\u001b[0m",
      "\u001b[0;31mRuntimeError\u001b[0m                              Traceback (most recent call last)",
      "\u001b[0;32m<ipython-input-6-a6d90c8b0acd>\u001b[0m in \u001b[0;36m<module>\u001b[0;34m()\u001b[0m\n\u001b[1;32m      6\u001b[0m \u001b[0mprint\u001b[0m\u001b[0;34m(\u001b[0m\u001b[0mnewton\u001b[0m\u001b[0;34m(\u001b[0m\u001b[0mg\u001b[0m\u001b[0;34m,\u001b[0m \u001b[0;36m3.\u001b[0m\u001b[0;34m*\u001b[0m\u001b[0mnp\u001b[0m\u001b[0;34m.\u001b[0m\u001b[0mpi\u001b[0m\u001b[0;34m/\u001b[0m\u001b[0;36m2.\u001b[0m\u001b[0;34m)\u001b[0m\u001b[0;34m)\u001b[0m\u001b[0;34m\u001b[0m\u001b[0m\n\u001b[1;32m      7\u001b[0m \u001b[0mprint\u001b[0m\u001b[0;34m(\u001b[0m\u001b[0mnewton\u001b[0m\u001b[0;34m(\u001b[0m\u001b[0mg\u001b[0m\u001b[0;34m,\u001b[0m \u001b[0;36m5.\u001b[0m\u001b[0;34m*\u001b[0m\u001b[0mnp\u001b[0m\u001b[0;34m.\u001b[0m\u001b[0mpi\u001b[0m\u001b[0;34m/\u001b[0m\u001b[0;36m2.\u001b[0m\u001b[0;34m)\u001b[0m\u001b[0;34m)\u001b[0m\u001b[0;34m\u001b[0m\u001b[0m\n\u001b[0;32m----> 8\u001b[0;31m \u001b[0mprint\u001b[0m\u001b[0;34m(\u001b[0m\u001b[0mnewton\u001b[0m\u001b[0;34m(\u001b[0m\u001b[0mg\u001b[0m\u001b[0;34m,\u001b[0m \u001b[0;36m7.\u001b[0m\u001b[0;34m*\u001b[0m\u001b[0mnp\u001b[0m\u001b[0;34m.\u001b[0m\u001b[0mpi\u001b[0m\u001b[0;34m/\u001b[0m\u001b[0;36m2.\u001b[0m\u001b[0;34m)\u001b[0m\u001b[0;34m)\u001b[0m\u001b[0;34m\u001b[0m\u001b[0m\n\u001b[0m\u001b[1;32m      9\u001b[0m \u001b[0;34m\u001b[0m\u001b[0m\n\u001b[1;32m     10\u001b[0m \u001b[0mnew_xvalues\u001b[0m \u001b[0;34m=\u001b[0m \u001b[0mnp\u001b[0m\u001b[0;34m.\u001b[0m\u001b[0mlinspace\u001b[0m\u001b[0;34m(\u001b[0m\u001b[0;36m0\u001b[0m\u001b[0;34m,\u001b[0m\u001b[0;36m20\u001b[0m\u001b[0;34m)\u001b[0m\u001b[0;34m\u001b[0m\u001b[0m\n",
      "\u001b[0;32m~/anaconda/lib/python3.5/site-packages/scipy/optimize/zeros.py\u001b[0m in \u001b[0;36mnewton\u001b[0;34m(func, x0, fprime, args, tol, maxiter, fprime2)\u001b[0m\n\u001b[1;32m    204\u001b[0m             \u001b[0mq1\u001b[0m \u001b[0;34m=\u001b[0m \u001b[0mfunc\u001b[0m\u001b[0;34m(\u001b[0m\u001b[0mp1\u001b[0m\u001b[0;34m,\u001b[0m \u001b[0;34m*\u001b[0m\u001b[0margs\u001b[0m\u001b[0;34m)\u001b[0m\u001b[0;34m\u001b[0m\u001b[0m\n\u001b[1;32m    205\u001b[0m     \u001b[0mmsg\u001b[0m \u001b[0;34m=\u001b[0m \u001b[0;34m\"Failed to converge after %d iterations, value is %s\"\u001b[0m \u001b[0;34m%\u001b[0m \u001b[0;34m(\u001b[0m\u001b[0mmaxiter\u001b[0m\u001b[0;34m,\u001b[0m \u001b[0mp\u001b[0m\u001b[0;34m)\u001b[0m\u001b[0;34m\u001b[0m\u001b[0m\n\u001b[0;32m--> 206\u001b[0;31m     \u001b[0;32mraise\u001b[0m \u001b[0mRuntimeError\u001b[0m\u001b[0;34m(\u001b[0m\u001b[0mmsg\u001b[0m\u001b[0;34m)\u001b[0m\u001b[0;34m\u001b[0m\u001b[0m\n\u001b[0m\u001b[1;32m    207\u001b[0m \u001b[0;34m\u001b[0m\u001b[0m\n\u001b[1;32m    208\u001b[0m \u001b[0;34m\u001b[0m\u001b[0m\n",
      "\u001b[0;31mRuntimeError\u001b[0m: Failed to converge after 50 iterations, value is nan"
     ]
    }
   ],
   "source": [
    "def g(z): # test function, finite square well\n",
    "    z0=8.\n",
    "    return np.sqrt((z0/z)**2-1) - np.tan(z)\n",
    "\n",
    "print(newton(g, np.pi/2.))\n",
    "print(newton(g, 3.*np.pi/2.))\n",
    "print(newton(g, 5.*np.pi/2.))\n",
    "print(newton(g, 7.*np.pi/2.))\n",
    "\n",
    "new_xvalues = np.linspace(0,20)\n",
    "new_fvalues = g(new_xvalues)\n",
    "plt.plot(new_xvalues, new_fvalues)\n",
    "plt.show()"
   ]
  },
  {
   "cell_type": "markdown",
   "metadata": {},
   "source": [
    "That's good! You'll see there are no roots beyond the one around $\\frac{5\\pi}{2}$."
   ]
  },
  {
   "cell_type": "markdown",
   "metadata": {},
   "source": [
    "#### Cubic Spline Fitting \n",
    "\n",
    "`scipy.interpolate.CubicSpline`.  See\n",
    "[scipy.interpolate reference guide](https://docs.scipy.org/doc/scipy/reference/generated/scipy.interpolate.CubicSpline.html) for more details and default values."
   ]
  },
  {
   "cell_type": "code",
   "execution_count": 17,
   "metadata": {},
   "outputs": [
    {
     "data": {
      "image/png": "[encoded data removed]",
      "text/plain": [
       "<Figure size 432x288 with 1 Axes>"
      ]
     },
     "metadata": {
      "needs_background": "light"
     },
     "output_type": "display_data"
    }
   ],
   "source": [
    "from scipy.interpolate import CubicSpline\n",
    "x = np.array([0., 0.12, 0.25, 0.37, 0.5, 0.62, 0.75, 0.87, 0.99])    # input\n",
    "y = np.array([10.6, 16.0, 45.0, 83.5, 52.8, 19.9, 10.8, 8.25, 4.7])\n",
    "# output fit values\n",
    "xout = np.arange(0.,1.,.01)\n",
    "cs = CubicSpline(x, y) # same table of tabulated values\n",
    "plt.plot(x, y, 'o', label='data')\n",
    "plt.plot(xout, cs(xout), label='spline')\n",
    "plt.legend()\n",
    "plt.xlabel('x')\n",
    "plt.ylabel('y')\n",
    "plt.show()"
   ]
  },
  {
   "cell_type": "markdown",
   "metadata": {},
   "source": [
    "Success, but in the end so what? It can be useful if you need a smooth function and you only have points, but remember that merely solves a practical problem -- it doesn't necessarily add new physics information.\n",
    "\n",
    "Also, beware what happens outside the interval for $x$ between 0 and 1.\n",
    "\n",
    "On to fitting by minimization, whereby we can extract physical parameters from data sets."
   ]
  },
  {
   "cell_type": "code",
   "execution_count": null,
   "metadata": {},
   "outputs": [],
   "source": []
  }
 ],
 "metadata": {
  "kernelspec": {
   "display_name": "Python [default]",
   "language": "python",
   "name": "python3"
  },
  "language_info": {
   "codemirror_mode": {
    "name": "ipython",
    "version": 3
   },
   "file_extension": ".py",
   "mimetype": "text/x-python",
   "name": "python",
   "nbconvert_exporter": "python",
   "pygments_lexer": "ipython3",
   "version": "3.5.6"
  }
 },
 "nbformat": 4,
 "nbformat_minor": 2
}
