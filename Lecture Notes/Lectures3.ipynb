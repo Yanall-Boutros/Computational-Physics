{
 "cells": [
  {
   "cell_type": "code",
   "execution_count": 1,
   "metadata": {},
   "outputs": [],
   "source": [
    "import numpy as np\n",
    "import matplotlib.pyplot as plt\n",
    "% matplotlib inline"
   ]
  },
  {
   "cell_type": "markdown",
   "metadata": {},
   "source": [
    "## Lectures 3 - More about integration\n",
    "\n",
    "\n",
    "Beyond solving differential equations, which we will continue to do, we are often interested in evaluating integrals numerically, particularly those that do not have useful analytic solutions. We're looking for an area (or higher-dimension equivalent) under a function, and there are two natural ways to do this:\n",
    "  - chop into small intervals, approximate the heights in the intervals, and sum the chopped areas. There are many approaches and variations, but the main differences are in how to estimate accurately the average function value in the interval (height). Once can also optimize the interval chopping, putting more intervals where the function is changing more rapidly.\n",
    "  - Monte Carlo (MC) techniques. Simplistic description: throw darts randomly at a plot, and count the fraction of the darts that land beneath the curve. For many-dimensional integrations of complex systems, this turns out to be quite effective. Example applications include simulations of the passage of particles through detectors, volumes of complex structures, and probabilty calculations in complicated systems (actually, detector simulations often encompass all of these).\n",
    "  \n",
    "Overview of the methods here, and we will return to more of the details of MC techniques later in the quarter."
   ]
  },
  {
   "cell_type": "markdown",
   "metadata": {},
   "source": [
    "### Basic numerical approach\n",
    "\n",
    "Riemann: the limit of the sum over rectangular boxes whose width, $h$, approaches zero:\n",
    "\n",
    "$$\n",
    "  \\int_{a}^{b} f(x)  dx = \\lim_{h\\rightarrow 0} \\left[h\n",
    "    \\sum_{i=1}^{(b-a)/h} f(x_{i}) \\right].$$\n",
    "\n",
    "\n",
    "Numerically: a *finite* sum over $N$ boxes of height $f(x_i)$ and width\n",
    "$w_i$:\n",
    "\n",
    "$$\\int_{a}^{b} f(x)  dx \\simeq \\sum_{i=1}^{N} f(x_{i}) w_{i},$$\n",
    "\n",
    "which is similar, but both $h$ and $N$ are finite for purposes of computation.\n",
    "\n",
    "<img src=\"figures/simple-int.png\" width=\"50%\">\n",
    "\n",
    "\n",
    "Standard form for these algorithms:\n",
    "* the function $f(x)$ is evaluated for each of the $N$ intervals, providing the information about the height of each box.\n",
    "* these are summed with weights $w_i$, which usually take into account (or simply are, depending on the algorithm) the box widths.\n",
    "\n",
    "Effectively, the different methods are encoded in the different $w_i$, as we will see, so we can describe a rule by its weight set $w_i=\\{ , , ... , \\}$.\n",
    "\n",
    "Note: there is not really a \"best\" algorithm. Depends on $f(x)$ characteristics and what you need from the result. Some employ hypbrid approaches, switching algorithms as needed in an attempt to optimize the result.\n",
    "\n",
    "### Trapezoid\n",
    "\n",
    "The simple \"box\" method (using the function value at the start of each interval) has obvious limitations. \n",
    "\n",
    "Instead of assuming the function is constant over the interval, approxiate the function as a straight line over the interval, so the box is now a trapezoid, and use the function values at the start and end of the interval to define the line. In other words, use the simple average of the two function values as the box height estimator. This is not more expensive computationally, we we need the function value at the next point for the next box in the sum. Let's see how that works.\n",
    "\n",
    "For $N$ points $x_i$ $(i = 1, N)$ evenly spaced (width $h$) \n",
    "throughout the integration region $[a, b]$, *including the\n",
    "endpoints*, in the integration region, there are\n",
    "$(N − 1)$ intervals of width $h$:\n",
    "\n",
    "$$h= \\frac{b-a}{N-1},\\qquad x_{i} = a + (i-1) h, \\qquad i=1, N,$$\n",
    "\n",
    "Note: we start our counting at $i = 1$. \n",
    "\n",
    "$$\\int_{x_{i}}^{x_{i}+h}f(x) dx \\simeq \\frac{h(f_{i}+f_{i+1})}{2} =\n",
    "\\frac{1}{2}hf_{i} + \\frac{1}{2}hf_{i+1}.$$\n",
    "\n",
    "<img src=\"figures/Trapezoid_Rule.png\" width=\"50%\">\n",
    "\n",
    "In terms of our standard integration formula, the trapezoid rule has *individual interval* weights $w_i = \\frac{h}{2}$, but when applying the rule to the entire $[a,b]$, we add the\n",
    "contributions from each interval:\n",
    "\n",
    "$$\n",
    "\\int_{a}^{b}f(x)  dx \\simeq \\frac{h}{2}f_{1} + hf_{2}\n",
    "  +hf_{3} + \\cdots + hf_{N-1} + \\frac{h}{2}f_{N} .$$\n",
    "\n",
    "Notes:\n",
    "  - internal points are counted twice (as the end of one interval and as the beginning of the next), so they have *total weights* of $h/2 + h/2 = h$, \n",
    "  - endpoints are counted just once, so they have *total weights* of $h/2$. \n",
    "  \n",
    "For the trapezoid algorithm, the weight set is:\n",
    "$$w_i= \\{ \\frac{h}{2}, h, h, ..., h, h, \\frac{h}{2}\\}$$\n",
    "\n",
    "In code, integrating a $f(y)$ over the region from A to B using N points or (N-1) intervals (see listing *TrapMethods.py* in the textbook for a slightly different coding approach):"
   ]
  },
  {
   "cell_type": "code",
   "execution_count": 16,
   "metadata": {},
   "outputs": [
    {
     "name": "stdout",
     "output_type": "stream",
     "text": [
      "Trapezoid result =  9.000004499999998\n",
      "\n",
      " Weight sum =  3.0000000000000027\n"
     ]
    }
   ],
   "source": [
    "\n",
    "A = 0.0\n",
    "B = 3.0\n",
    "N = 1001\n",
    "# N points => (N-1) intervals\n",
    "\n",
    "def f(y):           # Integrand\n",
    "    return y*y\n",
    "\n",
    "h = (B - A)/(N - 1)\n",
    "w = np.zeros(N).astype('float')\n",
    "w=h*(w+1.)\n",
    "w[0]=w[N-1]=h/2.\n",
    "#print(w[0:N])\n",
    "\n",
    "sumt = 0.0\n",
    "wsum=0.\n",
    "\n",
    "for i in range(1, N + 1):   # meh...the book defines the first point having index 1, not 0.\n",
    "    y = A + (i - 1)*h\n",
    "    sumt  += w[i-1] * f(y)\n",
    "    wsum += w[i-1]\n",
    "\n",
    "\n",
    "#    print(i, w[i-1],y)\n",
    "    \n",
    "print('Trapezoid result = ', sumt)\n",
    "print('\\n Weight sum = ', wsum)"
   ]
  },
  {
   "cell_type": "markdown",
   "metadata": {},
   "source": [
    "which isn't bad: the answer should be 9.0 for A=0, B=3, $f(y)=y^2$. Note that the sum of the weights should be the total interval of integration (see below).\n",
    "\n",
    "\n",
    "\n",
    "### Simpson’s Rule\n",
    "\n",
    "A better approach is to approximate the function with a second-order polynomial (instead of a line) over the interval, and this is done for each interval:\n",
    "\n",
    "$$\\begin{align}\n",
    "f(x) \\simeq \\alpha x^{2} + \\beta x + \\gamma ,\n",
    "   \\end{align}$$\n",
    "   \n",
    "<img src=\"figures/Simpson.png\" width=\"50%\">\n",
    "\n",
    "\n",
    "Obtain weights by calculating the area under the parabola directly:\n",
    "  \n",
    "  - for equally spaced intervals, the area under the parabola for each interval is\n",
    "\n",
    "$$\n",
    "\\int_{x_i}^{x_i+h}(\\alpha x^{2} + \\beta x +\\gamma)  dx = \\left.\n",
    "( \\frac{\\alpha x^3 } { 3} +   \\frac{\\beta x^2} { 2}\n",
    "    + \\gamma x) \\right|_{x_i}^{x_i+h}.$$\n",
    "\n",
    "To get the parameter values for $\\alpha$, $\\beta$, and $\\gamma$, notice that for \n",
    "an interval from −1 to +1:\n",
    "\n",
    "$$\n",
    "\\int_{-1}^{1}(\\alpha x^{2} + \\beta x +\\gamma)  dx =\n",
    "\\frac{2\\alpha}{3} + 2\\gamma.$$\n",
    "\n",
    "and \n",
    "\n",
    "$$\n",
    "\\begin{align}\n",
    " f(-1) & = \\alpha -\\beta+\\gamma, \\quad  f(0) = \\gamma, \\quad f(1) = \\alpha + \\beta +\n",
    "  \\gamma,\\\\\n",
    "  \\Rightarrow & \\alpha = \\displaystyle \\frac{f(1)+f(-1)} { 2} -f(0), \\quad\n",
    "   \\beta =       \\frac{f(1)-f(-1)} { 2},  \\quad \\gamma= f(0).\n",
    "   \\end{align}$$\n",
    "\n",
    "  * => can express the integral as the weighted sum over the values of the function at three points:\n",
    "\n",
    "$$\n",
    "\\int_{-1}^{1}(\\alpha x^{2} + \\beta x +\\gamma)  dx =\n",
    "\\frac{f(-1)}{3} + \\frac{4f(0)}{3} + \\frac{f(1)}{3} .$$\n",
    "\n",
    "The individual weights for one step are therefore $(h/3, 4h/3, h/3)$.\n",
    "\n",
    "Three values of the function are needed for each step, so it makes sense to do the sums for *pairs* of intervals:\n",
    "\n",
    "$$\\begin{align}\n",
    "\\int_{x_{i}-h}^{x_{i}+h}f(x)  dx & =  \\int_{x_{i}}^{x_{i}+h}f(x)\n",
    "dx + \\int_{x_{i}-h}^{x_{i}}f(x) dx\\\\\n",
    "  & \\simeq   \\frac{h}{3}f_{i-1}\n",
    "    + \\frac{4h}{3}f_{i} + \\frac{h}{3}f_{i+1} .\\tag*{5.40}\n",
    "   \\end{align}$$\n",
    "\n",
    "and then hop ahead to the next pair. Thus,\n",
    "\n",
    "  * Simpson’s rule requires the sum to be over *pairs* of intervals, which in turn requires that the *total number of intervals be even (and therefore that the number of points $N$ be odd*). \n",
    "  * In order to apply Simpson’s rule to the entire , we add up the contributions from each pair of subintervals, again effectively counting all but the first and last endpoints twice:\n",
    "\n",
    "$$\\int_{a}^{b}\\!\\!f(x)dx \\simeq \\frac{h}{3}f_{1} +\n",
    "\\frac{4h}{3}f_{2}+ \\frac{2h}{3}f_{3} + \\frac{4h}{3}f_{4} + \\cdots\n",
    "+\\frac{4h}{3}f_{N-1} + \\frac{h}{3}f_{N}.\n",
    "\\tag*{5.41}$$\n",
    "\n",
    "Therefore, the resulting for Simpson's rule are:\n",
    "\n",
    "$$\\tag*{5.42}\n",
    "  w_{i} = \\left\\{\\frac{h}{3},  \\frac{4h}{3},\n",
    "\\frac{2h}{3},  \\frac{4h}{3},   \\ldots,\n",
    "    \\frac{4h}{3},   \\frac{h}{3} \\right\\} \\qquad   \\mbox{(Simpson's rule)}.$$\n",
    "\n",
    "The sum of these weights provides a useful check:\n",
    "\n",
    "$$\n",
    "\\sum_{i=1}^{N} w_{i} = (N-1) h.$$\n",
    "\n",
    "so this should be the size of the interval of integration.\n",
    "\n",
    "*Repeating:* the number of points $N$ must be odd for Simpson’s rule. Let's try our code example, substituting Simpson for trapezoid:"
   ]
  },
  {
   "cell_type": "code",
   "execution_count": 17,
   "metadata": {},
   "outputs": [
    {
     "name": "stdout",
     "output_type": "stream",
     "text": [
      "[0.001 0.004 0.002 ... 0.002 0.004 0.001]\n",
      "Simpson result =  9.000000000000009\n",
      "\n",
      " Weight sum =  2.9999999999999654\n",
      "\n",
      " Simpson error =  8.88178e-16\n",
      "\n",
      " Trapezoid error =  4.999999996257998e-07\n"
     ]
    }
   ],
   "source": [
    "A = 0.0\n",
    "B = 3.0\n",
    "N = 1001\n",
    "# N points => (N-1) intervals\n",
    "\n",
    "def f(y):           # Integrand\n",
    "    return y*y\n",
    "\n",
    "h = (B - A)/(N - 1)\n",
    "# here's a more efficient and elegant way to fill the weights\n",
    "w=np.empty(N) ; w.fill(2.*h/3.)  # I prefer never to use .empty unless I also immediately initialize to something.\n",
    "w[1::2] = 2. * w[1::2] # double every other one to be 4/3 h, starting with element 1 (the second in the set)\n",
    "w[0] = h/3. # overwrite the zeroth and last elements (the ends of the set)\n",
    "w[-1] = h/3.\n",
    "\n",
    "\"\"\"\" This was the first way we implemented it\n",
    "w = np.zeros(N).astype('float')\n",
    "w=h/3.*(w+1.) # see the vector operation?\n",
    "for i in range(1,N-1):\n",
    "    if (int(i/2)==float(i)/2.):\n",
    "        w[i]=2.*w[i]\n",
    "    else:\n",
    "        w[i]=4.*w[i]\"\"\"\n",
    "\n",
    "print(w[0:N])\n",
    "\n",
    "sums = 0.0\n",
    "wsum=0.\n",
    "for i in range(1, N + 1):   # meh...the book defines the first point having index 1, not 0.\n",
    "    y = A + (i - 1)*h\n",
    "    sums  += w[i-1] * f(y)\n",
    "    wsum += w[i-1]\n",
    "#    print(i, w[i-1],y, wsum)\n",
    "    \n",
    "print('Simpson result = ', sums)\n",
    "print('\\n Weight sum = ', wsum)\n",
    "print ('\\n Simpson error = ','%.5e'% (sums/9.-1.))\n",
    "print ('\\n Trapezoid error = ',sumt/9.-1.)"
   ]
  },
  {
   "cell_type": "markdown",
   "metadata": {},
   "source": [
    "**Whoa! That's not better than Trapezoid! What did we do wrong, and how do we fix it?**\n",
    "\n",
    "$$ $$\n",
    "$$ $$\n",
    "\n",
    "...after the fix:\n",
    "Ah...**much better!** by about 9 orders of magnitude relative to trapezoid (for this caase). Probably a good idea to test that $N$ is odd, so that the number of intervals is even. See cell below.\n",
    "\n",
    "#### Romberg improvements\n",
    "\n",
    "Try canceling leading errors by combining two different calculations:\n",
    "\n",
    "Start with the trapezoid rule, using $N=2^m$ intervals with width $h$.  Call this result $A(h)$ (your book's notation).\n",
    "\n",
    "$$A(h) = \\int_a^b f(x) dx + \\alpha h^2 + \\beta h^4 + \\dots$$\n",
    "\n",
    "Now let's rerun the trapezoid rule, using $N=2^{m+1}$ intervals (*i.e.*, doubled the number) with width $h/2$.\n",
    "This result has 1/4 the error of the lower-resolution result.\n",
    "\n",
    "$$A(h/2) = \\int_a^b f(x) dx + \\alpha \\frac{h^2}{4} + \\beta \\frac{h^4}{16} + \\dots$$\n",
    "\n",
    "Now, simply cancel the leading error ($\\mathcal{O}(h^2)$) and get a better integral approximation by subtracting the two results, suitably weighted:\n",
    "\n",
    "$$\\frac{4}{3}A(h/2) - \\frac{1}{3}A(h) = \\int_a^b f(x) dx - \\beta \\frac{h^4}{4} + \\dots$$\n",
    "\n",
    "Voilá, one order better. In fact, when you put the pieces together, this result is arithmetically equivalent to Simpson's rule.\n",
    "\n",
    "You can keep iterating to improve the error. Since it is complicated to keep calculating the coefficients of the leading error terms, it is common to stop the iterations when the integral is no longer changing significantly relative to its value.\n",
    "\n",
    "There are other variations that lead to different weighting schemes. See Table 5.1 in your textbook if you are interested."
   ]
  },
  {
   "cell_type": "markdown",
   "metadata": {},
   "source": [
    "\n",
    "#### Refinements and other approaches\n",
    "As with the ODE solvers, there are many refinements, especially adaptive algorithms.\n",
    "\n",
    "-----------\n"
   ]
  },
  {
   "cell_type": "code",
   "execution_count": 21,
   "metadata": {},
   "outputs": [
    {
     "name": "stdout",
     "output_type": "stream",
     "text": [
      "This value is odd: 3\n"
     ]
    }
   ],
   "source": [
    "# one of many ways to test that a number is even:\n",
    "m=3\n",
    "if m%2 == 0:\n",
    "    print(\"This value is even:\",m)\n",
    "else:\n",
    "    print (\"This value is odd:\",m)\n",
    "    \n",
    "# modulo arithmetic also works with floats \n",
    "#the=(5/2)*np.pi\n",
    "#print(the%(2*np.pi))"
   ]
  },
  {
   "cell_type": "markdown",
   "metadata": {},
   "source": [
    "### Beware singularities and challenging regions\n",
    "\n",
    "If integrand contains a singularity or discontinuity (but integral is finite, of course), must first remove it before applying numerical methods. (See book chapter 26.4 for general discussion.)\n",
    "\n",
    "   - avoidance: break up integral around the singularity or discontinuity. Example:\n",
    "$$\n",
    "\\int_{-1}^{1} f(|x|)  dx =  \\int_{-1}^{0}f(-x)  dx +\n",
    "\\int_{0}^{1}f(x)  dx\n",
    "$$\n",
    "\n",
    "\n",
    "   - change of variable\n",
    "\n",
    "\n",
    "$$\n",
    "\\begin{align}\n",
    "\\int_{0}^{1}\\frac{f(x)  dx}{\\sqrt{1-x^{2}}} &=\n",
    " \\int_{0}^{1}\\frac{f(1-y^{2})  dx}{\\sqrt{1-(1-y^2)^{2}}}, \\quad (y^{2}  =  1-x) \\\\\n",
    " &= \\int_{1}^{0}\\frac{f(1-y^{2})  (-2y dy)}{y\\sqrt{2-y^2}}\\\\\n",
    " &= 2\\int_{0}^{1}\\frac{f(1-y^{2})  dy}{\\sqrt{2-y^{2}}},\n",
    "\\end{align}\n",
    "$$\n",
    "\n",
    "If integrand has a very rapid variation in some region, can\n",
    "change variables to expand that region to ensure that no signficant features are missed. Conversely, if integrand has very slow variation in some region, can speed up the integration by changing to a variable that\n",
    "compresses that region and places few points there, or divide the\n",
    "interval and use different step sizes (or use an adaptive method). \n",
    "\n"
   ]
  },
  {
   "cell_type": "markdown",
   "metadata": {},
   "source": [
    "### Improper Integrals\n",
    "\n",
    "$$I  = \\int_0^\\infty f(x) dx$$\n",
    "\n",
    "Of course, $\\infty$ is a formal upper limit. In some cases, could simply put a large cutoff, $b$, that is *effectively* $\\infty$ numerically (contributions beyond the cutoff are negligible).\n",
    "\n",
    "Or, going further, split into a finite region and an infinite region:\n",
    "\n",
    "$$\\int_0^\\infty f(x) dx = \\int_0^a f(x) dx + \\int_a^\\infty f(x) dx$$\n",
    "\n",
    "The finite region can be evaluated numerically, and the rest can be dealt with separately: for example, a common substitution of variables for the infinite region is $x\\rightarrow 1/y$ so that the integral becomes\n",
    "\n",
    "$$\\int_a^\\infty f(x)\\ dx = \\int_0^{1/a} \\frac{f(y^{-1})}{y^2}\\ dy$$\n",
    "\n",
    "Notice that this would be unworkable if the region contained $x=0$, but that's already handled in the finite-region integral. There is the potentially problematic behavior near $y=0$, see discussion above. \n",
    "\n",
    "$$ $$ \n",
    "\n",
    "**Example**\n",
    "$$I = \\int_0^\\infty \\frac{dx}{1+x^2}$$\n",
    "is challenging numerically with arbitrarily large cutoff $b$. Splitting the interval into two pieces: $[0,1]$ and $[1,\\infty]$, and for the latter interval, substitute $x\\rightarrow 1/y$ and try $a=1$.\n",
    "\n",
    "$$\n",
    "\\begin{align}\n",
    "I &= \\int_0^1 \\frac{1}{1+x^2} dx + \\int_0^{1/a} \\frac{1}{y^2 (1+1/y^2)} dy \\\\\n",
    "&= \\int_0^1 \\frac{1}{1+x^2} dx + \\int_0^{1} \\frac{1}{(y^2+1)} dy \\\\\n",
    "&= \\int_0^1 \\frac{1}{1+x^2} dx + \\int_0^{1} \\frac{1}{1+y^2} dy \\\\\n",
    "\\end{align}\n",
    "$$\n",
    "\n"
   ]
  },
  {
   "cell_type": "code",
   "execution_count": 4,
   "metadata": {},
   "outputs": [
    {
     "name": "stdout",
     "output_type": "stream",
     "text": [
      "Trapezoid result =  1.5707878242611426\n",
      "\n",
      " Weight sum =  0.9999999999999981\n"
     ]
    }
   ],
   "source": [
    "# Let's try this using our Trapezoid integrator from earlier:\n",
    "\n",
    "A = 0.0\n",
    "B = 1.0\n",
    "N = 100\n",
    "# N points => (N-1) intervals\n",
    "\n",
    "def f(x):           # Integrand\n",
    "    return 1./(1+pow(x,2))\n",
    "\n",
    "\n",
    "\n",
    "h = (B - A)/(N - 1)\n",
    "w = np.zeros(N).astype('float')\n",
    "w=h*(w+1.)\n",
    "w[0]=w[N-1]=h/2.\n",
    "sumt = 0.0\n",
    "wsum=0.\n",
    "\n",
    "for i in range(1, N + 1):   # meh...the book defines the first point having index 1, not 0.\n",
    "    y = A + (i - 1)*h\n",
    "    sumt  += w[i-1] * f(y)\n",
    "    wsum += w[i-1]\n",
    "\n",
    "print('Trapezoid result = ', 2.*sumt) # 2* becuase we have the x and y integrals, which are functionally identical.\n",
    "print('\\n Weight sum = ', wsum)"
   ]
  },
  {
   "cell_type": "markdown",
   "metadata": {},
   "source": [
    "Analytically, $$I = \\int_0^\\infty \\frac{dx}{1+x^2} = \\frac{\\pi}{2}$$\n",
    "\n",
    "Not bad. It gets better with more subdivisions. Try it."
   ]
  },
  {
   "cell_type": "code",
   "execution_count": 5,
   "metadata": {},
   "outputs": [
    {
     "name": "stdout",
     "output_type": "stream",
     "text": [
      "Trapezoid result suggests pi =  3.1415756e+00\n"
     ]
    }
   ],
   "source": [
    "print ('Trapezoid result suggests pi = ','%.7e' % (4.*sumt))"
   ]
  },
  {
   "cell_type": "markdown",
   "metadata": {},
   "source": [
    "## Monte Carlo Methods\n",
    "Summing boxes works well for many types of functions, but there are some practical limitations, particularly for multi-dimensional integrals. \n",
    "\n",
    "We can instead use random numbers to estimate the area (or N-dimensional volume). \n",
    "  - This opens a new issue for us: random numbers on a computer. We'll come back to this soon, but let's not digress too much right now.\n",
    "  - There are (pseudo-) [random number generation algorithms](https://docs.scipy.org/doc/numpy/reference/generated/numpy.random.rand.html#numpy.random.rand) that work well for many applications. \n"
   ]
  },
  {
   "cell_type": "markdown",
   "metadata": {},
   "source": [
    "The simple random number generator returns numbers evenly distributed between 0 and 1. Let's populate a square of side length 2, centered at $x=y=0$, with random numbers. \n",
    "  - Try it with the same Ntot a few times. \n",
    "  - Then change Ntot.\n",
    "  - Then use the box of random numbers to calculate $\\pi$. This will be your first MC method. Then explore how the precision improves with the number of randoms in the box.\n",
    "    - why is this called a MC method? [Here's](http://www.casinomontecarlo.com) the reason."
   ]
  },
  {
   "cell_type": "code",
   "execution_count": 53,
   "metadata": {},
   "outputs": [
    {
     "data": {
      "image/png": "[encoded data removed]",
      "text/plain": [
       "<Figure size 432x432 with 1 Axes>"
      ]
     },
     "metadata": {
      "needs_background": "light"
     },
     "output_type": "display_data"
    }
   ],
   "source": [
    "Ntot=1000\n",
    "z=2.*(np.random.rand(Ntot,2)-0.5)\n",
    "plt.rcParams[\"figure.figsize\"] = (6.,6.)\n",
    "plt.plot(z[:,0],z[:,1],\"o\",c='r')\n",
    "plt.xlabel(\"x\")\n",
    "plt.ylabel(\"y\")\n",
    "plt.title(\"2D random numbers\")\n",
    "plt.show()\n"
   ]
  },
  {
   "cell_type": "markdown",
   "metadata": {},
   "source": [
    "### Introduction to Monte Carlo Integration\n",
    "\n",
    "Finding an accurate, effective average value of the integrand over an interval was the main challenge in the numerical integration techniques above. \n",
    "\n",
    "$$I = \\int_{a}^{b} f(x)\\ dx = (b-a)\\langle f \\rangle$$\n",
    "\n",
    "Rather than constructing estimators using function expansions and analytic approximations, and/or clever weights, we can just ask random numbers, $x_i$, to do the job for us: evaluate $f(x_i)$ with $N$ of the $x_i$ and calculate the mean value:\n",
    "\n",
    "$$\\langle f \\rangle \\simeq \\frac{1}{N}\\sum_{i=1}^{N} f(x_{i})$$\n",
    "\n",
    "   - Notice, no chopping! This works fine over the whole integration range.\n",
    "   - We just must use enough $x_i$ so that the statistical error is acceptable. Recall the central limit theorem, see below and Problem set 3.\n",
    "     - of course, this works only if the $x_i$ are randomly and uniformly distributed \n",
    "\n",
    "The general Monte Carlo integration rule is thus:\n",
    "\n",
    "$$\\int_{a}^{b} f(x)\\ dx \\simeq (b-a) \\frac{1}{N}\\sum_{i=1}^{N} f(x_{i})$$\n",
    "\n",
    "Without any optimization, we can approximate the true integral with $N$ sufficiently large (or, equivalently, if we make many \"measurements\" of $I$).\n",
    "\n",
    "The uncertainty on this result is estimated by the variance:\n",
    "\n",
    "$$\\begin{align}\n",
    "\\sigma_I^2 &\\simeq \\frac{1}{N} \\sigma_f^2 \\\\\n",
    "&= \\frac{1}{N} \\left[ \\frac{1}{N} \\sum_{i=1}^N f_i^2 - \\left( \\frac{1}{N} \\sum_{i=1}^N f_i \\right)^2 \\right]\n",
    "\\end{align}$$\n",
    "\n",
    "so the uncertainty in the estimate of the integral decreases as $N^{-1/2}$, which matches our experience with the \"measurement\" of $\\pi$ using the 2D space of randoms, above.\n",
    "\n",
    "Compared with the other numerical methods (e.g., trapezoid), which have uncertainties $\\sim N^{-2}$, this might not seem valuable, but for multidimensional integrals a MC method has advantages.\n",
    "\n",
    "** Example **\n",
    "\n",
    "Let's try it on the same integral we had above:\n",
    "$$\\int_0^1 \\frac{dx}{1+x^2} = \\frac{\\pi}{4} = 0.785$$\n"
   ]
  },
  {
   "cell_type": "code",
   "execution_count": 7,
   "metadata": {},
   "outputs": [
    {
     "name": "stdout",
     "output_type": "stream",
     "text": [
      "For N= 1000 I= 0.78182 +/- 0.00520\n"
     ]
    },
    {
     "data": {
      "image/png": "[encoded data removed]",
      "text/plain": [
       "<Figure size 432x432 with 1 Axes>"
      ]
     },
     "metadata": {
      "needs_background": "light"
     },
     "output_type": "display_data"
    }
   ],
   "source": [
    "def f(x):\n",
    "    return 1./(1+pow(x,2))\n",
    "\n",
    "N = 1000\n",
    "sum = 0.\n",
    "sum2 = 0.\n",
    "for i in range(N):\n",
    "    x = np.random.random()\n",
    "    sum += f(x)\n",
    "    sum2 += pow(f(x),2)\n",
    "result = sum/N\n",
    "sigma = np.sqrt((sum2/N - pow(sum/N,2))/N)\n",
    "print(\"For N=\", N, \"I=\",'%.5f'% result, \"+/-\" ,'%.5f'% sigma)\n",
    "\n",
    "# btw, let's look at the function we're integrating\n",
    "x = np.linspace(0,1,20)\n",
    "y = f(x)\n",
    "plt.plot(x,y)\n",
    "plt.show()"
   ]
  },
  {
   "cell_type": "markdown",
   "metadata": {},
   "source": [
    "##### Importance Sampling\n",
    "\n",
    "In the error estimate, the *variance of the integrand* (see above) is just as important as the factor $1/N$\n",
    "\n",
    "=> try to reduce the variation in the integrand over the interval (flatten it) to improve the uncertainty in the integral result without increasing $N$.\n",
    "\n",
    "May seem silly, but divide and multiply the integrand by a carefully chosen normalized weight function $w(x)$:\n",
    "\n",
    "$$\\begin{align}\n",
    "I &= \\int_a^b f(x) dx \\\\\n",
    "&= \\int_a^b \\frac{f(x)}{w(x)} \\ w(x) \\ dx \\\\\n",
    "\\end{align}\n",
    "$$\n",
    "\n",
    "and change variable from $x$ to $y$ so that\n",
    "\n",
    "$$y = \\int_a^x w(t) \\ dt$$\n",
    "\n",
    "then we are using the *cumulative probability distribution* of $w(x)$.  (Normalized means $\\int_a^b w(x) dx = 1$.)\n",
    "\n",
    "The integral $I$, under the change of variables, becomes\n",
    "\n",
    "$$\n",
    "I = \\int_{y_a}^{y_b} \\frac{f(x(y))}{w(x(y))} \\ dy\n",
    "= \\frac{1}{N} \\sum_{i=1}^N \\frac{f}{w}\n",
    "$$\n",
    "\n",
    "If we choose a function $w(x)$ that has similar behavior to $f(x)$, then the integrand will be smooth , with a small variance.\n",
    "\n",
    "In other words:\n",
    "\n",
    "  - instead of uniformly sampling $x$ to integrate $f(x)$, we uniformly sample $y$ and integrate $f(x)/g(x)$.\n",
    "  - a uniform distribution of points in $y$ yields a distribution of points in $x$ distributed as $dy/dx = w(x)$.\n",
    "    \n",
    "Thus, the integration points are concentrated in the regions of $x$ where $w(x)$ (and hopefully $f(x)$, by design) are large, so we are sampling the points that are most important to the sum approximating the integral.\n",
    "\n",
    "For that reason, this kind of sampling is called *importance sampling*.\n",
    "\n",
    "The challenge of importance sampling is finding a good $w(x)$ and writing the transform $x\\rightarrow y$.\n",
    "\n",
    "Back again to our example\n",
    "$$\\int_0^1 \\frac{dx}{1+x^2}$$\n",
    "\n",
    "The integrand is monotonically decreasing , so we will look for a $w(x)$ that is roughly of the same order and decreases with $x$.\n",
    "\n",
    "A good choice is \n",
    "$$w(x) = \\frac{1}{3} (4-2x)$$\n",
    "This has the benefit of already being normalized over the interval [0,1], it has near-unity values of 3/4 at both endpoints, and it is nearly flat everywhere in the interval."
   ]
  },
  {
   "cell_type": "code",
   "execution_count": 8,
   "metadata": {},
   "outputs": [
    {
     "data": {
      "image/png": "[encoded data removed]",
      "text/plain": [
       "<Figure size 432x432 with 1 Axes>"
      ]
     },
     "metadata": {
      "needs_background": "light"
     },
     "output_type": "display_data"
    }
   ],
   "source": [
    "x = np.linspace(0,1,20)\n",
    "f = 1./(1+pow(x,2))\n",
    "w = 1./3. * (4-2*x)\n",
    "fplot, = plt.plot(x, f, \"g\")\n",
    "wplot, = plt.plot(x, w, \"b--\")\n",
    "ratioplot, = plt.plot(x, f/w, \"k-.\")\n",
    "plt.xlabel(\"x\")\n",
    "plt.legend([fplot, wplot, ratioplot], ['f', 'w', 'f/w'])\n",
    "plt.show()"
   ]
  },
  {
   "cell_type": "markdown",
   "metadata": {},
   "source": [
    "According to our recipe\n",
    "$$\\begin{align}\n",
    "y(x) &= \\int_0^x w(t)\\ dt \\\\\n",
    "&= \\int_0^x \\frac{1}{3} (4-2t) \\ dt \\\\\n",
    "&= \\frac{1}{3} x (4-x)\n",
    "\\end{align}$$\n",
    "\n",
    "The x-values for the function evaluation are now $x(y)$:\n",
    "\n",
    "$$x = 2 - (4-3y)^{1/2}$$\n",
    "\n",
    "and the limits of integration are $y_a = y_0 = 0$ and $y_b = y_1 = 1$.\n"
   ]
  },
  {
   "cell_type": "code",
   "execution_count": 37,
   "metadata": {},
   "outputs": [
    {
     "name": "stdout",
     "output_type": "stream",
     "text": [
      "For N= 1000 :  0.7854710953321565 +/- 0.000621000971902816\n"
     ]
    }
   ],
   "source": [
    "# Monte Carlo integration with importance sampling\n",
    "\n",
    "def f(x):\n",
    "    return 1./(1+pow(x,2))\n",
    "\n",
    "def w(x):\n",
    "    return (4. - 2.*x)/3.\n",
    "\n",
    "def xx(y): \n",
    "    return 2. - np.sqrt(4 - 3*y)\n",
    "\n",
    "N = 1000\n",
    "sum = 0.\n",
    "sum2 = 0.\n",
    "x = np.zeros(N).astype('float')\n",
    "for i in range(N):\n",
    "    y = np.random.random()\n",
    "    x[i] = xx(y)\n",
    "    integrand = f(x[i])/w(x[i])\n",
    "    sum += integrand\n",
    "    sum2 += pow(integrand,2)\n",
    "result = sum/N\n",
    "sigma = np.sqrt((sum2/N - pow(sum/N,2))/N)\n",
    "print(\"For N=\", N, \": \", result, \"+/-\", sigma)"
   ]
  },
  {
   "cell_type": "code",
   "execution_count": 51,
   "metadata": {},
   "outputs": [
    {
     "data": {
      "image/png": "[encoded data removed]",
      "text/plain": [
       "<Figure size 432x432 with 1 Axes>"
      ]
     },
     "metadata": {
      "needs_background": "light"
     },
     "output_type": "display_data"
    },
    {
     "name": "stdout",
     "output_type": "stream",
     "text": [
      "The bin contents: [249. 231. 193. 183. 144.]\n"
     ]
    },
    {
     "data": {
      "image/png": "[encoded data removed]",
      "text/plain": [
       "<Figure size 432x432 with 1 Axes>"
      ]
     },
     "metadata": {
      "needs_background": "light"
     },
     "output_type": "display_data"
    }
   ],
   "source": [
    "# now let's plot f and the xx (importance-sample) distribution\n",
    "xzeros=0.*x\n",
    "plt.rcParams[\"figure.figsize\"] = (6.,6.)\n",
    "#plt.plot(x,xzeros,\".\",c='r')\n",
    "plt.plot(x,f(x),\",\",c='r')\n",
    "plt.xlabel(\"x\")\n",
    "plt.ylabel(\"f\")\n",
    "plt.title(\"Importance-sampled f\")\n",
    "plt.show()\n",
    "bins=np.arange(0,1.2,.2)\n",
    "# the histogram of the data\n",
    "n, binsa, patches = plt.hist(x, bins, facecolor='red', alpha=0.5, align='mid')\n",
    "plt.xlabel('x')\n",
    "print (\"The bin contents:\",n)\n",
    "plt.ylabel('number in bin')\n",
    "plt.title(r'Histogram of randoms for importance sampling')\n",
    "plt.show()\n",
    "\n"
   ]
  },
  {
   "cell_type": "markdown",
   "metadata": {},
   "source": [
    "Thus, the uncertainty has been reduced by almost a factor of 10 for $N=1000$.\n",
    "\n",
    "There is a **simpler way** to generate random points with a specified probability distribution $w(x)$: the *von Neumann method (acceptance/rejection method)* can generate a sequence that follows $w(x)$.\n",
    "\n",
    "This is clearly more generally valuable: we'd like to be able to generate random numbers according to any distribution we want (not just flat between 0 and 1). While there are numpy and other functions to do this, it's valuable for us to be able to do it. \n",
    "\n",
    "Some example applications?"
   ]
  },
  {
   "cell_type": "markdown",
   "metadata": {},
   "source": [
    "### von Neumann method (acceptance/rejection)\n",
    "\n",
    "1. Consider a graph of $w(x)$ *vs.* $x$ Construct a rectangular area (box) that encompasses $a$ to $b$ in $x$ and $w_\\text{min}$ to $w_\\text{max}$. The top and bottom edges of the box can be any values, as long as all possible values of $w(x)$ are included, but it's wasteful to make the box too big, as we'll see.\n",
    "\n",
    "<img src=\"Figures/Figure_5.8.png\" width=\"40%\">\n",
    "\n",
    "2. Now generate random numbers, $x_i$, that uniformly span the interval $a$ to $b$. Also generate a second set of random numbers, $W_i$, that uniformly span the interval from $w_\\text{min}$ to $w_\\text{max}. \n",
    "\n",
    "3. Reject all $(x_i, W_i)$ points that do not fall into the region below the curve:\n",
    "$$\n",
    "\\mbox{If} \\ W_{i} \\lt w(x_{i}),  \\ \\mbox{accept}, \\quad\n",
    "  \\mbox{If} \\ W_{i} \\gt w(x_{i}),\\  \\mbox{reject}$$\n",
    "\n",
    "The $x_i$ values that are accepted will have the weighting\n",
    "probability $w(x)$. The largest acceptance occurs where $w(x)$ is\n",
    "large, as shown for midrange $x$ in the figure, so there are some inefficiencies (you throw away many generated $x_i$) where $w(x)$ is small. Thus,\n",
    "  - It's a good idea to specify the number of resulting random numbers you want, rather than the number of trials.\n",
    "  - It's a good idea to plot the function and generated random numbers to verify.\n",
    "  \n",
    "Let's try it: **generate $x_i$ between 0 and 5 that follow a probability distribution** $w(x)\\sim x^2$. \n",
    "\n",
    "First, let's realize that $w(x)=Ax^2$ is a probability density: $\\int_a^b w(x)\\ dx=1$, so we need to find the normalization, *i.e.*, $\\int_a^b Ax^2\\ dx=1$,  so in our case $A=\\frac{3}{5^3}$. "
   ]
  },
  {
   "cell_type": "code",
   "execution_count": 4,
   "metadata": {},
   "outputs": [
    {
     "name": "stdout",
     "output_type": "stream",
     "text": [
      "The bin contents: [  73.  528. 1526. 2870. 5003.]\n"
     ]
    },
    {
     "data": {
      "image/png": "[encoded data removed]",
      "text/plain": [
       "<Figure size 432x288 with 1 Axes>"
      ]
     },
     "metadata": {
      "needs_background": "light"
     },
     "output_type": "display_data"
    }
   ],
   "source": [
    "\n",
    "def w(x):\n",
    "    return (3./pow(5.,3))*x*x\n",
    "\n",
    "N = 10000\n",
    "ranx2 = np.zeros(N).astype('float')\n",
    "i=0\n",
    "while (i<N):\n",
    "    r1,r2 = 5.*np.random.random(2)\n",
    "    if (r2<w(r1)):\n",
    "        ranx2[i]=r1\n",
    "        i+=1\n",
    "bins=[0,1,2,3,4,5]\n",
    "# the histogram of the data\n",
    "n, binsa, patches = plt.hist(ranx2, bins, facecolor='blue', alpha=0.5, align='mid')\n",
    "plt.xlabel('x')\n",
    "print (\"The bin contents:\",n)\n",
    "plt.ylabel('number in bin')\n",
    "plt.title(r'Histogram of random numbers')\n",
    " \n",
    "plt.show()\n"
   ]
  },
  {
   "cell_type": "code",
   "execution_count": 5,
   "metadata": {},
   "outputs": [
    {
     "data": {
      "image/png": "[encoded data removed]",
      "text/plain": [
       "<Figure size 432x288 with 1 Axes>"
      ]
     },
     "metadata": {
      "needs_background": "light"
     },
     "output_type": "display_data"
    },
    {
     "name": "stdout",
     "output_type": "stream",
     "text": [
      "probabilties by bin from histo:  [0.0073 0.0528 0.1526 0.287  0.5003]\n",
      "calculated probablities by bin:  [0.008 0.056 0.152 0.296 0.488]\n",
      "check sums of probs each type:  1.0 1.0\n"
     ]
    }
   ],
   "source": [
    "# let's check that we got what we expected:\n",
    "#    plot w(x), and integrate it over the interval to make sure it is normalized\n",
    "#    calculate probability for each bin (integrate w(x) over each bin)\n",
    "#    compare with the fraction of generated numbers actually in each bin\n",
    "x = np.linspace(0,5,30)\n",
    "plt.plot(x, w(x), \"b\")\n",
    "plt.scatter(x, 3.*x*x/pow(5,3), 10, 'r')\n",
    "plt.xlabel(\"x\")\n",
    "plt.suptitle('w and direct Ax**2', fontsize=16)\n",
    "plt.show()\n",
    "probsh=n/N\n",
    "print (\"probabilties by bin from histo: \",probsh)\n",
    "probsc=probsh*0.\n",
    "psum=0.\n",
    "hsum=0.\n",
    "for i in range (0,len(n)):\n",
    "    probsc[i]=1/pow(5.,3)*(pow(bins[i+1],3)-pow(bins[i],3))\n",
    "    psum+=probsc[i]\n",
    "    hsum+=probsh[i]\n",
    "print (\"calculated probablities by bin: \", probsc)\n",
    "print(\"check sums of probs each type: \",psum, hsum)"
   ]
  },
  {
   "cell_type": "code",
   "execution_count": 8,
   "metadata": {},
   "outputs": [
    {
     "name": "stdout",
     "output_type": "stream",
     "text": [
      "Simpson result =  1.0000000000000033\n",
      "\n",
      " Weight sum =  5.000000000000624\n"
     ]
    }
   ],
   "source": [
    "# let's integrate w over the interval to ensure we got the correct normalization. We'll reuse our Simpson rule code.\n",
    "A = 0.0\n",
    "B = 5.0\n",
    "N = 12001\n",
    "# N points => (N-1) intervals\n",
    "\n",
    "h = (B - A)/(N - 1)\n",
    "wts=np.empty(N) ; wts.fill(2.*h/3.)  # I prefer never to use .empty unless I also immediately initialize to something.\n",
    "wts[1::2] = 2. * wts[1::2] # double every other one to be 4/3 h, starting with element 1 (the second in the set)\n",
    "wts[0] = h/3. # overwrite the zeroth and last elements (the ends of the set)\n",
    "wts[-1] = h/3.\n",
    "sums = 0.0\n",
    "wsum=0.\n",
    "for i in range(1, N + 1):   # meh...the book defines the first point having index 1, not 0.\n",
    "    y = A + (i - 1)*h\n",
    "    sums  += wts[i-1] * w(y)\n",
    "    wsum += wts[i-1]\n",
    "#    print(i, w[i-1],y, wsum)\n",
    "    \n",
    "print('Simpson result = ', sums)\n",
    "print('\\n Weight sum = ', wsum)"
   ]
  },
  {
   "cell_type": "markdown",
   "metadata": {},
   "source": [
    "**Looks good!**\n",
    "\n",
    "----------- \n",
    "\n",
    "------------\n",
    "\n",
    "Prompted by the above discussion, we can figure out a more efficient way to do this (and an interesting way to think about this problem), particularly for weighting functions that are integrable analytically: \n",
    "  - the random number generator gives us numbers between 0 and 1, and\n",
    "  - $\\int_a^b w(x) dx = 1$, so $\\int_a^{x_i} w(x) dx$ is the probabilty, $p$, -- *also between 0 and 1*. \n",
    "  \n",
    "So, we can performan in inversion. Generate a random number, $r_i$, uniformly between 0 and 1, then\n",
    "\n",
    "$$ \\int_a^{x_i} w(x) dx = r_i $$\n",
    "\n",
    "If we can solve for $x_i$ (an inversion), then the $x_i$ will have the desired distribution **by definition**! This is particularly efficient, because there are no trials.\n",
    "\n",
    "For our case of $w(x)=Ax^2$, we can see that $$x_i= \\left (\\frac{3r_i}{A}\\right )^\\frac{1}{3}$$\n",
    "\n",
    "Let's try it: \n",
    "\n",
    "\n"
   ]
  },
  {
   "cell_type": "code",
   "execution_count": 13,
   "metadata": {},
   "outputs": [
    {
     "name": "stdout",
     "output_type": "stream",
     "text": [
      "[  80323.  562180. 1521334. 2956198. 4879965.]\n"
     ]
    },
    {
     "data": {
      "image/png": "[encoded data removed]",
      "text/plain": [
       "<Figure size 432x288 with 1 Axes>"
      ]
     },
     "metadata": {
      "needs_background": "light"
     },
     "output_type": "display_data"
    }
   ],
   "source": [
    "N = 10000000\n",
    "ranx2 = np.zeros(N).astype('float')\n",
    "A=3./5**3\n",
    "r1 = np.random.random(N)\n",
    "ranx2=(3.*r1/A)**(1./3.)\n",
    "bins=[0,1,2,3,4,5]\n",
    "# the histogram of the data\n",
    "n, binsa, patches = plt.hist(ranx2, bins, facecolor='blue', alpha=0.5, align='mid')\n",
    "plt.xlabel('x')\n",
    "print (n)\n",
    "plt.ylabel('number in bin')\n",
    "plt.title(r'Histogram of random numbers')\n",
    " \n",
    "plt.show()"
   ]
  },
  {
   "cell_type": "code",
   "execution_count": 14,
   "metadata": {},
   "outputs": [
    {
     "name": "stdout",
     "output_type": "stream",
     "text": [
      "probabilties by bin from histo:  [0.0080323 0.056218  0.1521334 0.2956198 0.4879965]\n",
      "calculated probablities by bin:  [0.008 0.056 0.152 0.296 0.488]\n",
      "check sums of probs each type:  1.0 1.0\n"
     ]
    }
   ],
   "source": [
    "# let's check that we got what we expected:\n",
    "probsh=n/N\n",
    "print (\"probabilties by bin from histo: \",probsh)\n",
    "probsc=probsh*0.\n",
    "psum=0.\n",
    "hsum=0.\n",
    "for i in range (0,len(n)):\n",
    "    probsc[i]=1/pow(5.,3)*(pow(bins[i+1],3)-pow(bins[i],3))\n",
    "    psum+=probsc[i]\n",
    "    hsum+=probsh[i]\n",
    "print (\"calculated probablities by bin: \", probsc)\n",
    "print(\"check sums of probs each type: \",psum, hsum)"
   ]
  },
  {
   "cell_type": "markdown",
   "metadata": {},
   "source": [
    "Very nice. It's not practical to generate 10 million of these with the rejection method (it takes a while, anyway), but it's very quick with this method. Also, this approach allows us to vectorize the operations, another speed bonus.\n",
    "\n",
    "To recap: if you can perform the inversion, this is a very straightforward technique to generate random numbers according to the probability density of your choice.\n",
    "\n"
   ]
  },
  {
   "cell_type": "markdown",
   "metadata": {},
   "source": [
    "#### Oh, and one more thing...\n",
    "In class, someone asked if the inversion method can produce distributions for probability densities that are not monotonic. Yes! Let's make a distribution of randoms according to $\\sin(x)$ for $x$ in the range $(0,\\pi)$.\n",
    "\n",
    "$$ A\\int_0^{\\pi} \\sin(x) dx = 2A = 1 $$\n",
    "\n",
    "so $A=\\frac{1}{2}$, and\n",
    "\n",
    "$$ \\frac{1}{2}\\int_0^{x} \\sin(x') dx' = \\frac{1}{2}(1-\\cos(x)) = r $$\n",
    "\n",
    "so\n",
    "\n",
    "$$ x=\\cos^{-1}(1-2r) $$\n",
    "\n",
    "Let's see:\n",
    "\n"
   ]
  },
  {
   "cell_type": "code",
   "execution_count": 62,
   "metadata": {},
   "outputs": [
    {
     "data": {
      "image/png": "[encoded data removed]",
      "text/plain": [
       "<Figure size 432x432 with 1 Axes>"
      ]
     },
     "metadata": {
      "needs_background": "light"
     },
     "output_type": "display_data"
    },
    {
     "data": {
      "image/png": "[encoded data removed]",
      "text/plain": [
       "<Figure size 432x432 with 1 Axes>"
      ]
     },
     "metadata": {
      "needs_background": "light"
     },
     "output_type": "display_data"
    }
   ],
   "source": [
    "# first, let's have a look at the integral of the probability density\n",
    "#plt.rcParams[\"figure.figsize\"] = (6.,6.)\n",
    "x=np.arange(0.,np.pi,.03)\n",
    "wint=0.5*(1.-np.cos(x))\n",
    "plt.plot(x,wint,c='g')\n",
    "plt.xlabel(\"x\")\n",
    "plt.ylabel(\"f\")\n",
    "plt.title(\"Integral probability density\")\n",
    "plt.show()\n",
    "N = 10000000\n",
    "ranx2 = np.zeros(N).astype('float')\n",
    "r1 = np.random.random(N)\n",
    "ranx2=np.arccos(1.-2.*r1)\n",
    "bins=np.arange(0.,np.pi,.03)\n",
    "#print(bins)\n",
    "# the histogram of the data\n",
    "n, binsa, patches = plt.hist(ranx2, bins, facecolor='green', alpha=0.5, align='mid')\n",
    "plt.xlabel('x')\n",
    "#print (n)\n",
    "plt.ylabel('number in bin')\n",
    "plt.title(r'Histogram of random numbers prob density sin(x)')\n",
    "plt.show()\n"
   ]
  },
  {
   "cell_type": "markdown",
   "metadata": {},
   "source": [
    "------------\n",
    "Let's have a look at problem set 3."
   ]
  },
  {
   "cell_type": "code",
   "execution_count": null,
   "metadata": {},
   "outputs": [],
   "source": []
  }
 ],
 "metadata": {
  "kernelspec": {
   "display_name": "Python [default]",
   "language": "python",
   "name": "python3"
  },
  "language_info": {
   "codemirror_mode": {
    "name": "ipython",
    "version": 3
   },
   "file_extension": ".py",
   "mimetype": "text/x-python",
   "name": "python",
   "nbconvert_exporter": "python",
   "pygments_lexer": "ipython3",
   "version": "3.5.6"
  }
 },
 "nbformat": 4,
 "nbformat_minor": 2
}
